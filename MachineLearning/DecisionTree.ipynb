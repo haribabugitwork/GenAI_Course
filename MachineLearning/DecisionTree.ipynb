{
 "cells": [
  {
   "cell_type": "markdown",
   "id": "4dc0f5b0-92e6-4585-a202-809fd57e2f5b",
   "metadata": {},
   "source": [
    "You are given a dataset Churn_Modelling.csv, which contains data about customer information from a telecom company. \n",
    "The objective is to build a machine learning model to predict whether a customer will churn (i.e., leave the company).\n",
    "This is a binary classification problem."
   ]
  },
  {
   "cell_type": "code",
   "execution_count": null,
   "id": "e93d28c1-2e6b-4f52-b7a2-c78668a56d66",
   "metadata": {},
   "outputs": [],
   "source": [
    "import pandas as pd\n",
    "import numpy as np\n",
    "from sklearn.model_selection import train_test_split\n",
    "from sklearn.tree import DecisionTreeClassifier\n",
    "from sklearn.metrics import classification_report, accuracy_score"
   ]
  },
  {
   "cell_type": "code",
   "execution_count": null,
   "id": "2552e14b-4251-4026-a6e8-9010b8b0a6fd",
   "metadata": {},
   "outputs": [],
   "source": [
    "#data = pd.read_csv('/home/jovyan/source/From_KMIT/Churn_Modelling.csv')\n",
    "data = pd.read_csv('Churn_Modelling_Data.csv')"
   ]
  },
  {
   "cell_type": "code",
   "execution_count": null,
   "id": "3c117271-14e8-472c-8b26-40d8f6eb779f",
   "metadata": {
    "nbgrader": {
     "grade": false,
     "grade_id": "cell-62dfd80026ee018f",
     "locked": false,
     "schema_version": 3,
     "solution": true,
     "task": false
    },
    "tags": []
   },
   "outputs": [],
   "source": [
    "# Selecting features and target\n",
    "# Declare variable X and extract independent variables from 1 to 8\n",
    "# Declare variable y and extract dependent/Target variable\n",
    "\n",
    "X = data.iloc[:,1:9]  \n",
    "y = data.iloc[:, -1]    # Target variable\n"
   ]
  },
  {
   "cell_type": "code",
   "execution_count": null,
   "id": "f125dde8-e062-4a6a-b106-468659948785",
   "metadata": {},
   "outputs": [],
   "source": [
    "X"
   ]
  },
  {
   "cell_type": "code",
   "execution_count": null,
   "id": "4020cac4-741e-4aa4-85f0-a96ca13e714a",
   "metadata": {},
   "outputs": [],
   "source": [
    "y"
   ]
  },
  {
   "cell_type": "code",
   "execution_count": null,
   "id": "f71911bb-d1db-4938-b55c-bafb2129aa90",
   "metadata": {},
   "outputs": [],
   "source": [
    "# Split dataset into training and testing sets\n",
    "X_train, X_test, y_train, y_test = train_test_split(X, y, test_size=0.2, random_state=42)\n",
    "X_train.shape, X_test.shape, y_train.shape, y_test.shape"
   ]
  },
  {
   "cell_type": "code",
   "execution_count": null,
   "id": "14f56a57-5830-486f-ac89-819f86879ee3",
   "metadata": {
    "nbgrader": {
     "grade": false,
     "grade_id": "cell-54e0f69643bcf0c6",
     "locked": false,
     "schema_version": 3,
     "solution": true,
     "task": false
    },
    "tags": []
   },
   "outputs": [],
   "source": [
    "# Initialize the DecisionTree Classifier\n",
    "# uSE rf_model VARIABLE and initialize the DTclassifier and random_state set to 42\n",
    "# Train the rf_model.fit using the training data (X_train and y_train) \n",
    "\n",
    "rf_model = DecisionTreeClassifier( random_state=42)\n",
    "\n",
    "# Train the model\n",
    "rf_model.fit(X_train, y_train)\n"
   ]
  },
  {
   "cell_type": "code",
   "execution_count": null,
   "id": "da7ebfbe-42d4-412f-8589-540f95a85526",
   "metadata": {
    "nbgrader": {
     "grade": false,
     "grade_id": "cell-f197098b33126ea7",
     "locked": false,
     "schema_version": 3,
     "solution": true,
     "task": false
    }
   },
   "outputs": [],
   "source": [
    "# Predict on test data\n",
    "#Use the trained rf_model to make predictions on the test data (X_test).\n",
    "#Store the predictions in a variable named y_pred.\n",
    "\n",
    "y_pred = rf_model.predict(X_test)\n"
   ]
  },
  {
   "cell_type": "code",
   "execution_count": null,
   "id": "791677c3-022f-4dbd-97d7-78c34e851e80",
   "metadata": {
    "nbgrader": {
     "grade": false,
     "grade_id": "cell-f789f057c57d0a5a",
     "locked": false,
     "schema_version": 3,
     "solution": true,
     "task": false
    },
    "tags": []
   },
   "outputs": [],
   "source": [
    "# Evaluate performance\n",
    "#Compute the accuracy of the trained model using accuracy_score(y_test, y_pred) from sklearn.metrics. \n",
    "#Store the result in a variable named accuracy and print the test accuracy in the format:\n",
    "\n",
    "accuracy = accuracy_score(y_test, y_pred)\n",
    "print(f\"Test Accuracy: {accuracy}\")"
   ]
  },
  {
   "cell_type": "code",
   "execution_count": null,
   "id": "e83336b7-2dd6-4ba7-98e9-760321587990",
   "metadata": {},
   "outputs": [],
   "source": [
    "import seaborn as sns\n",
    "from sklearn.metrics import confusion_matrix\n",
    "import matplotlib.pyplot as plt\n",
    "# Compute the confusion matrix\n",
    "cm = confusion_matrix(y_test, y_pred)\n",
    "\n",
    "# Print the confusion matrix\n",
    "print(\"Confusion Matrix:\\n\", cm)\n",
    "# Create a heatmap for the confusion matrix\n",
    "plt.figure(figsize=(8, 6))\n",
    "sns.heatmap(cm, annot=True, fmt='d', cmap='Blues', xticklabels=np.unique(y_test), yticklabels=np.unique(y_test))\n",
    "\n",
    "# Add labels, title, and axis ticks\n",
    "plt.xlabel('Predicted Label')\n",
    "plt.ylabel('True Label')\n",
    "plt.title('Confusion Matrix')\n",
    "plt.show()"
   ]
  },
  {
   "cell_type": "code",
   "execution_count": null,
   "id": "e8014f5c-6dcd-4d1f-ae6d-db2abbfc3b91",
   "metadata": {},
   "outputs": [],
   "source": []
  }
 ],
 "metadata": {
  "kernelspec": {
   "display_name": "Python 3 (ipykernel)",
   "language": "python",
   "name": "python3"
  },
  "language_info": {
   "codemirror_mode": {
    "name": "ipython",
    "version": 3
   },
   "file_extension": ".py",
   "mimetype": "text/x-python",
   "name": "python",
   "nbconvert_exporter": "python",
   "pygments_lexer": "ipython3",
   "version": "3.10.8"
  }
 },
 "nbformat": 4,
 "nbformat_minor": 5
}
