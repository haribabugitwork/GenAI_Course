{
 "cells": [
  {
   "cell_type": "markdown",
   "id": "170b89cb-fbc2-4446-a41d-93c7497082a0",
   "metadata": {},
   "source": [
    "Exercise: Predicting House Prices Using Linear Regression\n",
    "Objective:\n",
    "Use the Boston Housing Dataset to build a Linear Regression model that predicts house prices.\n",
    "\n",
    "The columns in the Boston Housing Dataset represent different attributes (features) of houses in the Boston area. Here’s what each column means:\n",
    "\n",
    "RM - Average number of rooms per dwelling (indicates house size).\n",
    "LSTAT - Percentage of lower-status population in the area (a socioeconomic indicator).\n",
    "PTRATIO - Pupil-teacher ratio by town (educational quality indicator).\n",
    "MEDV - Median value of owner-occupied homes in USD (target variable for regression).\n",
    "\n",
    "Tasks:\n",
    "\n",
    "Load the dataset.\n",
    "Preprocess the data.\n",
    "Split into training and testing sets.\n",
    "Train a Linear Regression model.\n",
    "Evaluate the model using Mean Squared Error (MSE).\n",
    "Verify the model's performance using assertions"
   ]
  },
  {
   "cell_type": "code",
   "execution_count": 1,
   "id": "0dbe1442-c455-480e-bbd0-4a16faaee9a1",
   "metadata": {},
   "outputs": [],
   "source": [
    "#import all the requiered libaries\n",
    "import numpy as np\n",
    "import pandas as pd\n",
    "from sklearn.model_selection import train_test_split\n",
    "from sklearn.linear_model import LinearRegression\n",
    "from sklearn.metrics import mean_squared_error"
   ]
  },
  {
   "cell_type": "code",
   "execution_count": 2,
   "id": "03741b0e-1571-491a-8cda-827872be65b4",
   "metadata": {
    "nbgrader": {
     "grade": false,
     "grade_id": "cell-3e377513827ff2a4",
     "locked": false,
     "schema_version": 3,
     "solution": true,
     "task": false
    },
    "tags": []
   },
   "outputs": [
    {
     "name": "stdout",
     "output_type": "stream",
     "text": [
      "First 5 rows of the dataset:\n",
      "      RM  LSTAT  PTRATIO      MEDV\n",
      "0  6.575   4.98     15.3  504000.0\n",
      "1  6.421   9.14     17.8  453600.0\n",
      "2  7.185   4.03     17.8  728700.0\n",
      "3  6.998   2.94     18.7  701400.0\n",
      "4  7.147   5.33     18.7  760200.0\n"
     ]
    }
   ],
   "source": [
    "\n",
    "df = pd.read_csv('housing.csv')\n",
    "# Display the first few rows to visually inspect the data\n",
    "\n",
    "print(\"First 5 rows of the dataset:\")\n",
    "print(df.head())\n"
   ]
  },
  {
   "cell_type": "code",
   "execution_count": 4,
   "id": "d200c6d1-02d9-4c0d-924c-d5a4af25219a",
   "metadata": {
    "nbgrader": {
     "grade": false,
     "grade_id": "cell-95b77544a579656e",
     "locked": false,
     "schema_version": 3,
     "solution": true,
     "task": false
    },
    "tags": []
   },
   "outputs": [
    {
     "name": "stdout",
     "output_type": "stream",
     "text": [
      "\n",
      "Features (first 5 rows):\n",
      "      RM  LSTAT  PTRATIO\n",
      "0  6.575   4.98     15.3\n",
      "1  6.421   9.14     17.8\n",
      "2  7.185   4.03     17.8\n",
      "3  6.998   2.94     18.7\n",
      "4  7.147   5.33     18.7\n",
      "\n",
      "Target (first 5 rows):\n",
      "0    504000.0\n",
      "1    453600.0\n",
      "2    728700.0\n",
      "3    701400.0\n",
      "4    760200.0\n",
      "Name: MEDV, dtype: float64\n"
     ]
    }
   ],
   "source": [
    "# Here we assume the target column is the last column in the dataset.\n",
    "# If your target column has a different name, update the code accordingly.\n",
    "# All columns except the last one are considered features or Input variable(X)\n",
    "# The last column is the target or output variable (y). \n",
    "\n",
    "\n",
    "X = df.iloc[:, :-1]  # All columns except the last one are considered features\n",
    "y = df.iloc[:, -1]   # The last column is the target\n",
    "\n",
    "print(\"\\nFeatures (first 5 rows):\")\n",
    "print(X.head())\n",
    "print(\"\\nTarget (first 5 rows):\")\n",
    "print(y.head())"
   ]
  },
  {
   "cell_type": "code",
   "execution_count": 5,
   "id": "732da052-7625-424e-922f-3c8487a5f221",
   "metadata": {
    "nbgrader": {
     "grade": true,
     "grade_id": "cell-9286eb6222cfb7e5",
     "locked": true,
     "points": 20,
     "schema_version": 3,
     "solution": false,
     "task": false
    },
    "tags": []
   },
   "outputs": [
    {
     "name": "stdout",
     "output_type": "stream",
     "text": [
      "\n",
      "Features (first 5 rows):\n",
      "      RM  LSTAT  PTRATIO\n",
      "0  6.575   4.98     15.3\n",
      "1  6.421   9.14     17.8\n",
      "2  7.185   4.03     17.8\n",
      "3  6.998   2.94     18.7\n",
      "4  7.147   5.33     18.7\n",
      "\n",
      "Target (first 5 rows):\n",
      "0    504000.0\n",
      "1    453600.0\n",
      "2    728700.0\n",
      "3    701400.0\n",
      "4    760200.0\n",
      "Name: MEDV, dtype: float64\n"
     ]
    }
   ],
   "source": [
    "# Test the splitting by checking shapes\n",
    "print(\"\\nFeatures (first 5 rows):\")\n",
    "print(X.head())\n",
    "print(\"\\nTarget (first 5 rows):\")\n",
    "print(y.head())"
   ]
  },
  {
   "cell_type": "code",
   "execution_count": 6,
   "id": "3bf6e19f-5740-43a5-8be8-5456c10592db",
   "metadata": {
    "nbgrader": {
     "grade": false,
     "grade_id": "cell-143f6b6560688f21",
     "locked": false,
     "schema_version": 3,
     "solution": true,
     "task": false
    },
    "tags": []
   },
   "outputs": [
    {
     "name": "stdout",
     "output_type": "stream",
     "text": [
      "\n",
      "Training set size: 391\n",
      "Test set size: 98\n"
     ]
    }
   ],
   "source": [
    "#Train-Test Split\n",
    "from sklearn.model_selection import train_test_split\n",
    "\n",
    "# Split data into training (80%) and testing (20%) sets\n",
    "# Use X_train, X_test, y_train, y_test variables for splitting the dataset\n",
    "\n",
    "\n",
    "X_train, X_test, y_train, y_test = train_test_split(X, y, test_size=0.2, random_state=42)\n",
    "\n",
    "print(\"\\nTraining set size:\", X_train.shape[0])\n",
    "print(\"Test set size:\", X_test.shape[0])\n"
   ]
  },
  {
   "cell_type": "code",
   "execution_count": 7,
   "id": "893dbd2e-23ee-4f81-8aec-f0e0915407bd",
   "metadata": {
    "nbgrader": {
     "grade": true,
     "grade_id": "cell-b9089b4fb3c15d77",
     "locked": true,
     "points": 20,
     "schema_version": 3,
     "solution": false,
     "task": false
    },
    "tags": []
   },
   "outputs": [
    {
     "name": "stdout",
     "output_type": "stream",
     "text": [
      "\n",
      "Training set size: 391\n",
      "Test set size: 98\n"
     ]
    }
   ],
   "source": [
    "# Assertions to ensure the split is correct\n",
    "\n",
    "print(\"\\nTraining set size:\", X_train.shape[0])\n",
    "print(\"Test set size:\", X_test.shape[0])"
   ]
  },
  {
   "cell_type": "code",
   "execution_count": 8,
   "id": "20fbd627-268d-4624-b2ec-adba4287073d",
   "metadata": {
    "nbgrader": {
     "grade": false,
     "grade_id": "cell-52a0dc3f80370df8",
     "locked": false,
     "schema_version": 3,
     "solution": true,
     "task": false
    },
    "tags": []
   },
   "outputs": [
    {
     "name": "stdout",
     "output_type": "stream",
     "text": [
      "\n",
      "Model training complete.\n",
      "Model coefficients:\n",
      "[ 87322.20361861 -10620.63731522 -19324.4102965 ]\n"
     ]
    }
   ],
   "source": [
    "#Train the Linear Regression Model\n",
    "\n",
    "from sklearn.linear_model import LinearRegression\n",
    "\n",
    "# Initialize and train the Linear Regression model\n",
    "# use model.fit Function \n",
    "\n",
    "model = LinearRegression()\n",
    "model.fit(X_train, y_train)\n",
    "\n",
    "print(\"\\nModel training complete.\")\n",
    "print(\"Model coefficients:\")\n",
    "print(model.coef_)"
   ]
  },
  {
   "cell_type": "code",
   "execution_count": 9,
   "id": "988188c9-8932-4e0b-ad2f-7066ac859b9f",
   "metadata": {
    "nbgrader": {
     "grade": true,
     "grade_id": "cell-dd005fb91c7c43fd",
     "locked": true,
     "points": 20,
     "schema_version": 3,
     "solution": false,
     "task": false
    },
    "tags": []
   },
   "outputs": [
    {
     "name": "stdout",
     "output_type": "stream",
     "text": [
      "\n",
      "Model training complete.\n",
      "Model coefficients:\n",
      "[ 87322.20361861 -10620.63731522 -19324.4102965 ]\n"
     ]
    }
   ],
   "source": [
    "# Test that the model has learned coefficients\n",
    "\n",
    "print(\"\\nModel training complete.\")\n",
    "print(\"Model coefficients:\")\n",
    "print(model.coef_)"
   ]
  },
  {
   "cell_type": "code",
   "execution_count": 10,
   "id": "f3afa562-5b6e-464d-8abe-c0a24d0a5732",
   "metadata": {
    "nbgrader": {
     "grade": false,
     "grade_id": "cell-afb8cfa9aab26445",
     "locked": false,
     "schema_version": 3,
     "solution": true,
     "task": false
    },
    "tags": []
   },
   "outputs": [
    {
     "name": "stdout",
     "output_type": "stream",
     "text": [
      "\n",
      "First 5 predictions:\n",
      "[342593.79029768 506257.0916297  410499.93166174 237792.7411537\n",
      " 327005.79653234]\n"
     ]
    }
   ],
   "source": [
    "#Make Predictions\n",
    "# Use the trained model to make predictions on the test set\n",
    "y_pred = model.predict(X_test)\n",
    "\n",
    "print(\"\\nFirst 5 predictions:\")\n",
    "print(y_pred[:5])"
   ]
  },
  {
   "cell_type": "code",
   "execution_count": 11,
   "id": "d5ee7ac2-1a18-4b83-945d-6f12fdc44094",
   "metadata": {
    "nbgrader": {
     "grade": true,
     "grade_id": "cell-9ad4e2af790f4fc2",
     "locked": true,
     "points": 10,
     "schema_version": 3,
     "solution": false,
     "task": false
    },
    "tags": []
   },
   "outputs": [
    {
     "name": "stdout",
     "output_type": "stream",
     "text": [
      "\n",
      "First 5 predictions:\n",
      "[342593.79029768 506257.0916297  410499.93166174 237792.7411537\n",
      " 327005.79653234]\n"
     ]
    }
   ],
   "source": [
    "print(\"\\nFirst 5 predictions:\")\n",
    "print(y_pred[:5])"
   ]
  },
  {
   "cell_type": "code",
   "execution_count": 12,
   "id": "4be562ba-f8fb-4cfc-8705-a4193bc34f7f",
   "metadata": {
    "nbgrader": {
     "grade": false,
     "grade_id": "cell-cc46b03dba67ff0d",
     "locked": false,
     "schema_version": 3,
     "solution": true,
     "task": false
    },
    "tags": []
   },
   "outputs": [
    {
     "name": "stdout",
     "output_type": "stream",
     "text": [
      "\n",
      "Mean Squared Error (MSE): 6789025559.27\n"
     ]
    }
   ],
   "source": [
    "#Evaluate the Model\n",
    "from sklearn.metrics import mean_squared_error\n",
    "\n",
    "\n",
    "# Calculate Mean Squared Error (MSE)\n",
    "mse = mean_squared_error(y_test, y_pred)\n",
    "\n",
    "print(f\"\\nMean Squared Error (MSE): {mse:.2f}\")"
   ]
  },
  {
   "cell_type": "code",
   "execution_count": 13,
   "id": "13d9ac03-fdd8-428d-84e9-7b706f325ba1",
   "metadata": {
    "nbgrader": {
     "grade": true,
     "grade_id": "cell-fd92871bc946a91c",
     "locked": true,
     "points": 10,
     "schema_version": 3,
     "solution": false,
     "task": false
    },
    "tags": []
   },
   "outputs": [
    {
     "name": "stdout",
     "output_type": "stream",
     "text": [
      "\n",
      "Mean Squared Error (MSE): 6789025559.27\n"
     ]
    }
   ],
   "source": [
    "print(f\"\\nMean Squared Error (MSE): {mse:.2f}\")"
   ]
  }
 ],
 "metadata": {
  "kernelspec": {
   "display_name": "Python 3 (ipykernel)",
   "language": "python",
   "name": "python3"
  },
  "language_info": {
   "codemirror_mode": {
    "name": "ipython",
    "version": 3
   },
   "file_extension": ".py",
   "mimetype": "text/x-python",
   "name": "python",
   "nbconvert_exporter": "python",
   "pygments_lexer": "ipython3",
   "version": "3.10.8"
  }
 },
 "nbformat": 4,
 "nbformat_minor": 5
}
