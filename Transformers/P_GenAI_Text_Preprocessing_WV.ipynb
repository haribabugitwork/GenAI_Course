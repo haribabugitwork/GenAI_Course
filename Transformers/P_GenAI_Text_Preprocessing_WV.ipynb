{
 "cells": [
  {
   "cell_type": "code",
   "execution_count": 1,
   "id": "de9beefb-82e9-4ffd-a062-cd98fed252ae",
   "metadata": {},
   "outputs": [],
   "source": [
    "import re\n",
    "import numpy as np\n",
    "import torch\n",
    "from gensim.models import Word2Vec"
   ]
  },
  {
   "cell_type": "code",
   "execution_count": 2,
   "id": "eba28c95-77b7-4505-a8fe-1a6d051869d7",
   "metadata": {},
   "outputs": [],
   "source": [
    "# Example sentences for training Word2Vec model\n",
    "sentences = [\n",
    "    \"Hello world\",\n",
    "    \"This is another sentence\",\n",
    "    \"Word2Vec is a powerful tool\"\n",
    "]"
   ]
  },
  {
   "cell_type": "markdown",
   "id": "55063c53-a8fb-44d6-9c0a-5576b6eff87b",
   "metadata": {},
   "source": [
    "# Tokenize function using regex (case insensitive and tokenizes by word boundaries)"
   ]
  },
  {
   "cell_type": "code",
   "execution_count": null,
   "id": "54c4e481-a44d-40b7-972a-378ca9226c0f",
   "metadata": {},
   "outputs": [],
   "source": []
  },
  {
   "cell_type": "markdown",
   "id": "fa804250-f551-4e8b-8911-ae301d880ca0",
   "metadata": {},
   "source": [
    "# Tokenize sentences using the tokenize function"
   ]
  },
  {
   "cell_type": "code",
   "execution_count": null,
   "id": "71d03cd6-d0b8-4ddc-8fd4-62c9d2c0f3c1",
   "metadata": {},
   "outputs": [],
   "source": []
  },
  {
   "cell_type": "code",
   "execution_count": null,
   "id": "5e433a56-8eed-4450-a01a-ab424f112ff8",
   "metadata": {},
   "outputs": [],
   "source": []
  },
  {
   "cell_type": "markdown",
   "id": "a8418e00-e972-4527-b168-fdc8a380cc70",
   "metadata": {},
   "source": [
    "# Train Word2Vec model on the tokenized sentences"
   ]
  },
  {
   "cell_type": "code",
   "execution_count": null,
   "id": "509a0875-535a-4996-82a7-34b9c324b95f",
   "metadata": {},
   "outputs": [],
   "source": []
  },
  {
   "cell_type": "markdown",
   "id": "e24b8cef-eb01-43ec-b10e-f9c377e1b568",
   "metadata": {},
   "source": [
    "# Function to convert sentences to fixed-length vectors"
   ]
  },
  {
   "cell_type": "code",
   "execution_count": null,
   "id": "b2334679-0c8a-483a-ad40-9689ef0e11d8",
   "metadata": {},
   "outputs": [],
   "source": []
  },
  {
   "cell_type": "markdown",
   "id": "6b164555-658f-4f11-a996-54be5ef81bb6",
   "metadata": {},
   "source": [
    "# Convert the tokenized sentences into fixed-length vectors using the Word2Vec model"
   ]
  },
  {
   "cell_type": "code",
   "execution_count": null,
   "id": "8191f4fd-e91d-4558-a833-90bcb47e5932",
   "metadata": {},
   "outputs": [],
   "source": []
  },
  {
   "cell_type": "markdown",
   "id": "fbe100d8-e419-424c-9739-40b90452880f",
   "metadata": {},
   "source": [
    "# Convert data to PyTorch tensors"
   ]
  },
  {
   "cell_type": "code",
   "execution_count": null,
   "id": "aac7c0d1-d93d-4d0c-bbcf-66ed5c29d97d",
   "metadata": {},
   "outputs": [],
   "source": []
  },
  {
   "cell_type": "code",
   "execution_count": null,
   "id": "374af7be-a5c4-4ff4-a0d4-0d5ce42b9436",
   "metadata": {},
   "outputs": [],
   "source": []
  }
 ],
 "metadata": {
  "kernelspec": {
   "display_name": "Python 3 (ipykernel)",
   "language": "python",
   "name": "python3"
  },
  "language_info": {
   "codemirror_mode": {
    "name": "ipython",
    "version": 3
   },
   "file_extension": ".py",
   "mimetype": "text/x-python",
   "name": "python",
   "nbconvert_exporter": "python",
   "pygments_lexer": "ipython3",
   "version": "3.11.0"
  }
 },
 "nbformat": 4,
 "nbformat_minor": 5
}
