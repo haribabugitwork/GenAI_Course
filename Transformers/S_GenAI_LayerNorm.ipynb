{
 "cells": [
  {
   "cell_type": "code",
   "execution_count": 1,
   "id": "061b1622-5d4c-4a77-890b-32d2c9bf764e",
   "metadata": {},
   "outputs": [],
   "source": [
    "import torch\n",
    "import torch.nn as nn"
   ]
  },
  {
   "cell_type": "code",
   "execution_count": 2,
   "id": "ce553ab7-30d7-4b97-9ed5-716761edeeeb",
   "metadata": {},
   "outputs": [
    {
     "data": {
      "text/plain": [
       "<torch._C.Generator at 0x106743dd0>"
      ]
     },
     "execution_count": 2,
     "metadata": {},
     "output_type": "execute_result"
    }
   ],
   "source": [
    "import random\n",
    "random.seed(24)  # Python random seed\n",
    "torch.manual_seed(24)  # PyTorch seed (CPU)"
   ]
  },
  {
   "cell_type": "code",
   "execution_count": 3,
   "id": "4bf388d7-4e42-4d64-ba78-55499ecb25b3",
   "metadata": {},
   "outputs": [],
   "source": [
    "# Set print options: No scientific notation, 2 decimal places\n",
    "torch.set_printoptions(sci_mode=False, precision=4)"
   ]
  },
  {
   "cell_type": "markdown",
   "id": "0b737a7e-1912-4d90-899f-fabac027ed41",
   "metadata": {},
   "source": [
    "# Initialize LayerNorm with 10 features"
   ]
  },
  {
   "cell_type": "code",
   "execution_count": 4,
   "id": "bbf72f7e-853f-48f2-b066-83bafb1cb702",
   "metadata": {},
   "outputs": [],
   "source": [
    "# Initialize LayerNorm with 10 features\n",
    "layer_norm = nn.LayerNorm(10)"
   ]
  },
  {
   "cell_type": "code",
   "execution_count": 5,
   "id": "2f450a3e-af6d-4f35-bd27-c55a0b12e727",
   "metadata": {},
   "outputs": [
    {
     "data": {
      "text/plain": [
       "LayerNorm((10,), eps=1e-05, elementwise_affine=True)"
      ]
     },
     "execution_count": 5,
     "metadata": {},
     "output_type": "execute_result"
    }
   ],
   "source": [
    "layer_norm"
   ]
  },
  {
   "cell_type": "markdown",
   "id": "828cc36d-beac-4ea8-b378-25755f927048",
   "metadata": {},
   "source": [
    "# Create a random input tensor with shape (batch_size=3, features=10)"
   ]
  },
  {
   "cell_type": "code",
   "execution_count": 6,
   "id": "63f17fed-a7f4-4636-8578-b1c47afa9108",
   "metadata": {},
   "outputs": [],
   "source": [
    "# Create a random input tensor with shape (batch_size=3, features=10)\n",
    "x = torch.randn(3, 10)"
   ]
  },
  {
   "cell_type": "markdown",
   "id": "a909cc73-f953-46ef-9234-34648c3ee751",
   "metadata": {},
   "source": [
    "![Description](layer_norm_image.png)"
   ]
  },
  {
   "cell_type": "markdown",
   "id": "91ebc3e3-69e8-4746-a209-5deeda3bdfbc",
   "metadata": {},
   "source": [
    "# Compute mean and std of x before normalization"
   ]
  },
  {
   "cell_type": "code",
   "execution_count": 7,
   "id": "fd29a57f-6c5d-454f-9c2f-61b8c83fcd4a",
   "metadata": {},
   "outputs": [
    {
     "name": "stdout",
     "output_type": "stream",
     "text": [
      "Before LayerNorm:\n",
      "Input: tensor([[-1.5405, -0.3515, -0.3186, -1.2221,  2.1723, -0.5020,  0.9029, -1.6458,\n",
      "          0.7199,  0.9037],\n",
      "        [ 0.2337, -0.1412,  1.4302,  0.6298, -0.1468, -0.9044,  0.0280,  0.3196,\n",
      "         -0.9579,  2.6285],\n",
      "        [-1.8652,  0.9344, -0.8441,  0.1529, -2.8440, -0.0912,  1.5258, -0.2799,\n",
      "         -1.0172,  1.2744]])\n",
      "Mean: tensor([[-0.0882],\n",
      "        [ 0.3119],\n",
      "        [-0.3054]])\n",
      "Std: tensor([[1.1766],\n",
      "        [1.0155],\n",
      "        [1.3159]])\n"
     ]
    }
   ],
   "source": [
    "# Compute mean and std of x before normalization\n",
    "print(\"Before LayerNorm:\")\n",
    "print(\"Input:\", x)\n",
    "print(\"Mean:\", x.mean(dim=-1, keepdim=True))\n",
    "print(\"Std:\", x.std(dim=-1, unbiased=False, keepdim=True))"
   ]
  },
  {
   "cell_type": "markdown",
   "id": "55bb760b-8e51-4afe-b850-23a21753c30a",
   "metadata": {},
   "source": [
    "# Apply Layer Normalization"
   ]
  },
  {
   "cell_type": "code",
   "execution_count": 8,
   "id": "d18c9d9f-bc28-4fdf-a37c-d468c5d098d9",
   "metadata": {},
   "outputs": [],
   "source": [
    "# Apply Layer Normalization\n",
    "output = layer_norm(x)"
   ]
  },
  {
   "cell_type": "code",
   "execution_count": 9,
   "id": "ba9fd3c5-3fd0-4a8e-885e-6601f88682a5",
   "metadata": {},
   "outputs": [
    {
     "name": "stdout",
     "output_type": "stream",
     "text": [
      "Output: tensor([[-1.2344, -0.2238, -0.1959, -0.9637,  1.9212, -0.3517,  0.8423, -1.3238,\n",
      "          0.6868,  0.8430],\n",
      "        [-0.0771, -0.4462,  1.1012,  0.3130, -0.4518, -1.1978, -0.2796,  0.0075,\n",
      "         -1.2504,  2.2812],\n",
      "        [-1.1853,  0.9422, -0.4093,  0.3483, -1.9291,  0.1628,  1.3915,  0.0194,\n",
      "         -0.5409,  1.2005]], grad_fn=<NativeLayerNormBackward0>)\n"
     ]
    }
   ],
   "source": [
    "print(\"Output:\", output)"
   ]
  },
  {
   "cell_type": "markdown",
   "id": "966c8904-a381-4908-a7c7-f498cb88dfb9",
   "metadata": {},
   "source": [
    "# Print the gain (γ) and bias (β)"
   ]
  },
  {
   "cell_type": "code",
   "execution_count": 10,
   "id": "9b7d2c16-d8f0-4559-a3d6-fed392fc1613",
   "metadata": {},
   "outputs": [
    {
     "name": "stdout",
     "output_type": "stream",
     "text": [
      "Gain (γ): Parameter containing:\n",
      "tensor([1., 1., 1., 1., 1., 1., 1., 1., 1., 1.], requires_grad=True)\n",
      "Bias (β): Parameter containing:\n",
      "tensor([0., 0., 0., 0., 0., 0., 0., 0., 0., 0.], requires_grad=True)\n"
     ]
    }
   ],
   "source": [
    "# Print the gain (γ) and bias (β)\n",
    "print(\"Gain (γ):\", layer_norm.weight)  # Scaling parameter\n",
    "print(\"Bias (β):\", layer_norm.bias)    # Shifting parameter"
   ]
  },
  {
   "cell_type": "markdown",
   "id": "55a6c8a1-4f6b-4d90-b2f2-33318cceef6d",
   "metadata": {},
   "source": [
    "# Compute mean and std of x after normalization"
   ]
  },
  {
   "cell_type": "code",
   "execution_count": 11,
   "id": "44f2adc7-eff9-40c0-966c-1dfdee1be151",
   "metadata": {},
   "outputs": [
    {
     "name": "stdout",
     "output_type": "stream",
     "text": [
      "\n",
      "After LayerNorm:\n",
      "Mean: tensor([[     0.0000],\n",
      "        [    -0.0000],\n",
      "        [     0.0000]], grad_fn=<MeanBackward1>)\n",
      "Std: tensor([[1.0000],\n",
      "        [1.0000],\n",
      "        [1.0000]], grad_fn=<StdBackward0>)\n"
     ]
    }
   ],
   "source": [
    "# Compute mean and std of x after normalization\n",
    "print(\"\\nAfter LayerNorm:\")\n",
    "print(\"Mean:\", output.mean(dim=-1, keepdim=True))  # Should be close to 0\n",
    "print(\"Std:\", output.std(dim=-1, unbiased=False, keepdim=True))  # Should be close to 1"
   ]
  },
  {
   "cell_type": "markdown",
   "id": "cd05a569-672e-4d68-9aca-633f3baecf74",
   "metadata": {},
   "source": [
    "# Simple Model to demonstrate gamma and beta parameters"
   ]
  },
  {
   "cell_type": "code",
   "execution_count": 12,
   "id": "f3d5a51e-57d7-4d5a-87af-744fdd3c0da7",
   "metadata": {},
   "outputs": [],
   "source": [
    "import torch.optim as optim\n",
    "\n",
    "# Dummy dataset: 10 samples, 5 features each\n",
    "x = torch.randn(10, 5)\n",
    "y = torch.randn(10, 5)  # Regression target\n",
    "\n",
    "# Define a simple model with LayerNorm\n",
    "class SimpleModel(nn.Module):\n",
    "    def __init__(self, feature_dim):\n",
    "        super(SimpleModel, self).__init__()\n",
    "        self.layernorm = nn.LayerNorm(feature_dim)\n",
    "        self.fc = nn.Linear(feature_dim, feature_dim)  # Fully connected layer\n",
    "\n",
    "    def forward(self, x):\n",
    "        x = self.layernorm(x)  # Apply LayerNorm\n",
    "        return self.fc(x)  # Pass through a linear layer\n",
    "\n",
    "# Initialize model\n",
    "model = SimpleModel(feature_dim=5)"
   ]
  },
  {
   "cell_type": "markdown",
   "id": "f473f636-bc94-4efd-b004-9a1ec29108b8",
   "metadata": {},
   "source": [
    "# Print initial gamma and beta"
   ]
  },
  {
   "cell_type": "code",
   "execution_count": 13,
   "id": "97bfe6f0-3434-4ed2-8998-5839caabba15",
   "metadata": {},
   "outputs": [
    {
     "name": "stdout",
     "output_type": "stream",
     "text": [
      "Before Training:\n",
      "Initial Gain (γ): tensor([1., 1., 1., 1., 1.])\n",
      "Initial Bias (β): tensor([0., 0., 0., 0., 0.])\n"
     ]
    }
   ],
   "source": [
    "# Print initial gamma and beta\n",
    "print(\"Before Training:\")\n",
    "print(\"Initial Gain (γ):\", model.layernorm.weight.data)\n",
    "print(\"Initial Bias (β):\", model.layernorm.bias.data)"
   ]
  },
  {
   "cell_type": "markdown",
   "id": "6a431e5c-ef0c-444b-8e64-c607e6ca1e9c",
   "metadata": {},
   "source": [
    "# Train for one iteration"
   ]
  },
  {
   "cell_type": "code",
   "execution_count": 14,
   "id": "a04c94c8-a217-4220-bf32-e37d5b7cb8a6",
   "metadata": {},
   "outputs": [],
   "source": [
    "# Define loss and optimizer\n",
    "criterion = nn.MSELoss()\n",
    "optimizer = optim.SGD(model.parameters(), lr=0.1)\n",
    "\n",
    "# Train for one iteration\n",
    "for epoch in range(1):\n",
    "    optimizer.zero_grad()\n",
    "    outputs = model(x)\n",
    "    loss = criterion(outputs, y)\n",
    "    loss.backward()\n",
    "    optimizer.step()"
   ]
  },
  {
   "cell_type": "markdown",
   "id": "ef8122e6-5667-4121-aa99-2cbd2012d745",
   "metadata": {},
   "source": [
    "# Print gamma and beta after one training step"
   ]
  },
  {
   "cell_type": "code",
   "execution_count": 15,
   "id": "40e7254b-91dc-4dd7-b6a3-85f27f9ad351",
   "metadata": {},
   "outputs": [
    {
     "name": "stdout",
     "output_type": "stream",
     "text": [
      "\n",
      "After Training One Iteration:\n",
      "Updated Gain (γ): tensor([0.9992, 0.9589, 0.9930, 0.9822, 1.0058])\n",
      "Updated Bias (β): tensor([-0.0157, -0.0242,  0.0172,  0.0083, -0.0047])\n"
     ]
    }
   ],
   "source": [
    "# Print gamma and beta after one training step\n",
    "print(\"\\nAfter Training One Iteration:\")\n",
    "print(\"Updated Gain (γ):\", model.layernorm.weight.data)\n",
    "print(\"Updated Bias (β):\", model.layernorm.bias.data)"
   ]
  }
 ],
 "metadata": {
  "kernelspec": {
   "display_name": "Python 3 (ipykernel)",
   "language": "python",
   "name": "python3"
  },
  "language_info": {
   "codemirror_mode": {
    "name": "ipython",
    "version": 3
   },
   "file_extension": ".py",
   "mimetype": "text/x-python",
   "name": "python",
   "nbconvert_exporter": "python",
   "pygments_lexer": "ipython3",
   "version": "3.10.16"
  }
 },
 "nbformat": 4,
 "nbformat_minor": 5
}
