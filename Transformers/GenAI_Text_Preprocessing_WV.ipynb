{
 "cells": [
  {
   "cell_type": "code",
   "execution_count": null,
   "id": "de9beefb-82e9-4ffd-a062-cd98fed252ae",
   "metadata": {},
   "outputs": [],
   "source": [
    "import re\n",
    "import numpy as np\n",
    "import torch\n",
    "from gensim.models import Word2Vec"
   ]
  },
  {
   "cell_type": "code",
   "execution_count": null,
   "id": "eba28c95-77b7-4505-a8fe-1a6d051869d7",
   "metadata": {},
   "outputs": [],
   "source": [
    "# Example sentences for training Word2Vec model\n",
    "sentences = [\n",
    "    \"Hello world\",\n",
    "    \"This is another sentence\",\n",
    "    \"Word2Vec is a powerful tool\"\n",
    "]"
   ]
  },
  {
   "cell_type": "markdown",
   "id": "55063c53-a8fb-44d6-9c0a-5576b6eff87b",
   "metadata": {},
   "source": [
    "# Tokenize function using regex (case insensitive and tokenizes by word boundaries)"
   ]
  },
  {
   "cell_type": "code",
   "execution_count": null,
   "id": "54c4e481-a44d-40b7-972a-378ca9226c0f",
   "metadata": {},
   "outputs": [],
   "source": [
    "# Tokenize function using regex (case insensitive and tokenizes by word boundaries)\n",
    "def tokenize(text):\n",
    "    return re.findall(r'\\b\\w+\\b', text.lower())"
   ]
  },
  {
   "cell_type": "markdown",
   "id": "fa804250-f551-4e8b-8911-ae301d880ca0",
   "metadata": {},
   "source": [
    "# Tokenize sentences using the tokenize function"
   ]
  },
  {
   "cell_type": "code",
   "execution_count": null,
   "id": "71d03cd6-d0b8-4ddc-8fd4-62c9d2c0f3c1",
   "metadata": {},
   "outputs": [],
   "source": [
    "# Tokenize sentences using the tokenize function\n",
    "input_tokens = [tokenize(sentence) for sentence in sentences]"
   ]
  },
  {
   "cell_type": "code",
   "execution_count": null,
   "id": "5e433a56-8eed-4450-a01a-ab424f112ff8",
   "metadata": {},
   "outputs": [],
   "source": [
    "input_tokens"
   ]
  },
  {
   "cell_type": "markdown",
   "id": "a8418e00-e972-4527-b168-fdc8a380cc70",
   "metadata": {},
   "source": [
    "# Train Word2Vec model on the tokenized sentences"
   ]
  },
  {
   "cell_type": "code",
   "execution_count": null,
   "id": "509a0875-535a-4996-82a7-34b9c324b95f",
   "metadata": {},
   "outputs": [],
   "source": [
    "# Train Word2Vec model on the tokenized sentences\n",
    "word2vec_model = Word2Vec(sentences=input_tokens, vector_size=10, window=3, min_count=1)"
   ]
  },
  {
   "cell_type": "markdown",
   "id": "e24b8cef-eb01-43ec-b10e-f9c377e1b568",
   "metadata": {},
   "source": [
    "# Function to convert sentences to fixed-length vectors"
   ]
  },
  {
   "cell_type": "code",
   "execution_count": null,
   "id": "b2334679-0c8a-483a-ad40-9689ef0e11d8",
   "metadata": {},
   "outputs": [],
   "source": [
    "# Function to convert sentences to fixed-length vectors\n",
    "def sentence_to_vectors(tokens, model, max_len=5):\n",
    "    vectors = []\n",
    "    print(f\"Converting {tokens} to vector\")\n",
    "    for word in tokens:\n",
    "        if word in model.wv:  # Check if the word is in the model\n",
    "            vectors.append(model.wv[word])  # Append the word's vector\n",
    "    # Pad or truncate to max_len\n",
    "    vectors = vectors[:max_len] + [[0] * model.vector_size] * (max_len - len(vectors))\n",
    "    print(f\"Converted {tokens} to {vectors}\")\n",
    "    return np.array(vectors)"
   ]
  },
  {
   "cell_type": "markdown",
   "id": "6b164555-658f-4f11-a996-54be5ef81bb6",
   "metadata": {},
   "source": [
    "# Convert the tokenized sentences into fixed-length vectors using the Word2Vec model"
   ]
  },
  {
   "cell_type": "code",
   "execution_count": null,
   "id": "8191f4fd-e91d-4558-a833-90bcb47e5932",
   "metadata": {},
   "outputs": [],
   "source": [
    "# Convert the tokenized sentences into fixed-length vectors using the Word2Vec model\n",
    "max_a_len = 5  # Fixed input length\n",
    "X = np.array([sentence_to_vectors(tokens, word2vec_model, max_a_len) for tokens in input_tokens])"
   ]
  },
  {
   "cell_type": "markdown",
   "id": "fbe100d8-e419-424c-9739-40b90452880f",
   "metadata": {},
   "source": [
    "# Convert data to PyTorch tensors"
   ]
  },
  {
   "cell_type": "code",
   "execution_count": null,
   "id": "aac7c0d1-d93d-4d0c-bbcf-66ed5c29d97d",
   "metadata": {},
   "outputs": [],
   "source": [
    "# Convert data to PyTorch tensors\n",
    "X_tensor = torch.tensor(X, dtype=torch.float32)\n",
    "\n",
    "# Print the tensor shapes and contents\n",
    "print(\"X Tensor Shape:\", X_tensor.shape)\n",
    "\n",
    "print(\"X Tensor:\", X_tensor)"
   ]
  },
  {
   "cell_type": "code",
   "execution_count": null,
   "id": "374af7be-a5c4-4ff4-a0d4-0d5ce42b9436",
   "metadata": {},
   "outputs": [],
   "source": []
  }
 ],
 "metadata": {
  "kernelspec": {
   "display_name": "Python (kmec_env)",
   "language": "python",
   "name": "kmec_env"
  },
  "language_info": {
   "codemirror_mode": {
    "name": "ipython",
    "version": 3
   },
   "file_extension": ".py",
   "mimetype": "text/x-python",
   "name": "python",
   "nbconvert_exporter": "python",
   "pygments_lexer": "ipython3",
   "version": "3.11.0"
  }
 },
 "nbformat": 4,
 "nbformat_minor": 5
}
