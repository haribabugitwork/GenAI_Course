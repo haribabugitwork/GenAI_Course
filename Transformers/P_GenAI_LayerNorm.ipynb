{
 "cells": [
  {
   "cell_type": "code",
   "execution_count": null,
   "id": "061b1622-5d4c-4a77-890b-32d2c9bf764e",
   "metadata": {},
   "outputs": [],
   "source": [
    "import torch\n",
    "import torch.nn as nn"
   ]
  },
  {
   "cell_type": "code",
   "execution_count": null,
   "id": "ce553ab7-30d7-4b97-9ed5-716761edeeeb",
   "metadata": {},
   "outputs": [],
   "source": [
    "import random\n",
    "random.seed(24)  # Python random seed\n",
    "torch.manual_seed(24)  # PyTorch seed (CPU)"
   ]
  },
  {
   "cell_type": "code",
   "execution_count": null,
   "id": "4bf388d7-4e42-4d64-ba78-55499ecb25b3",
   "metadata": {},
   "outputs": [],
   "source": [
    "# Set print options: No scientific notation, 2 decimal places\n",
    "torch.set_printoptions(sci_mode=False, precision=4)"
   ]
  },
  {
   "cell_type": "markdown",
   "id": "0b737a7e-1912-4d90-899f-fabac027ed41",
   "metadata": {},
   "source": [
    "# Initialize LayerNorm with 10 features"
   ]
  },
  {
   "cell_type": "code",
   "execution_count": null,
   "id": "bbf72f7e-853f-48f2-b066-83bafb1cb702",
   "metadata": {},
   "outputs": [],
   "source": []
  },
  {
   "cell_type": "code",
   "execution_count": null,
   "id": "2f450a3e-af6d-4f35-bd27-c55a0b12e727",
   "metadata": {},
   "outputs": [],
   "source": []
  },
  {
   "cell_type": "markdown",
   "id": "828cc36d-beac-4ea8-b378-25755f927048",
   "metadata": {},
   "source": [
    "# Create a random input tensor with shape (batch_size=3, features=10)"
   ]
  },
  {
   "cell_type": "code",
   "execution_count": null,
   "id": "63f17fed-a7f4-4636-8578-b1c47afa9108",
   "metadata": {},
   "outputs": [],
   "source": []
  },
  {
   "cell_type": "markdown",
   "id": "9da205b6-6cb7-4aed-a9ca-c04f5ccb0528",
   "metadata": {},
   "source": [
    "![Description](layer_norm_image.png)"
   ]
  },
  {
   "cell_type": "markdown",
   "id": "91ebc3e3-69e8-4746-a209-5deeda3bdfbc",
   "metadata": {},
   "source": [
    "# Compute mean and std of x before normalization"
   ]
  },
  {
   "cell_type": "code",
   "execution_count": null,
   "id": "fd29a57f-6c5d-454f-9c2f-61b8c83fcd4a",
   "metadata": {},
   "outputs": [],
   "source": [
    "# Compute mean and std of x before normalization\n",
    "print(\"Before LayerNorm:\")\n",
    "print(\"Input:\", x)\n",
    "print(\"Mean:\", x.mean(dim=-1, keepdim=True))\n",
    "print(\"Std:\", x.std(dim=-1, unbiased=False, keepdim=True))"
   ]
  },
  {
   "cell_type": "markdown",
   "id": "55bb760b-8e51-4afe-b850-23a21753c30a",
   "metadata": {},
   "source": [
    "# Apply Layer Normalization"
   ]
  },
  {
   "cell_type": "code",
   "execution_count": null,
   "id": "d18c9d9f-bc28-4fdf-a37c-d468c5d098d9",
   "metadata": {},
   "outputs": [],
   "source": []
  },
  {
   "cell_type": "code",
   "execution_count": null,
   "id": "ba9fd3c5-3fd0-4a8e-885e-6601f88682a5",
   "metadata": {},
   "outputs": [],
   "source": [
    "print(\"Output:\", output)"
   ]
  },
  {
   "cell_type": "markdown",
   "id": "966c8904-a381-4908-a7c7-f498cb88dfb9",
   "metadata": {},
   "source": [
    "# Print the gain (γ) and bias (β)"
   ]
  },
  {
   "cell_type": "code",
   "execution_count": null,
   "id": "9b7d2c16-d8f0-4559-a3d6-fed392fc1613",
   "metadata": {},
   "outputs": [],
   "source": [
    "# Print the gain (γ) and bias (β)\n",
    "print(\"Gain (γ):\", layer_norm.weight)  # Scaling parameter\n",
    "print(\"Bias (β):\", layer_norm.bias)    # Shifting parameter"
   ]
  },
  {
   "cell_type": "markdown",
   "id": "55a6c8a1-4f6b-4d90-b2f2-33318cceef6d",
   "metadata": {},
   "source": [
    "# Compute mean and std of x after normalization"
   ]
  },
  {
   "cell_type": "code",
   "execution_count": null,
   "id": "44f2adc7-eff9-40c0-966c-1dfdee1be151",
   "metadata": {},
   "outputs": [],
   "source": [
    "# Compute mean and std of x after normalization\n",
    "print(\"\\nAfter LayerNorm:\")\n",
    "print(\"Mean:\", output.mean(dim=-1, keepdim=True))  # Should be close to 0\n",
    "print(\"Std:\", output.std(dim=-1, unbiased=False, keepdim=True))  # Should be close to 1"
   ]
  },
  {
   "cell_type": "markdown",
   "id": "cd05a569-672e-4d68-9aca-633f3baecf74",
   "metadata": {},
   "source": [
    "# Simple Model to demonstrate gamma and beta parameters"
   ]
  },
  {
   "cell_type": "code",
   "execution_count": null,
   "id": "f3d5a51e-57d7-4d5a-87af-744fdd3c0da7",
   "metadata": {},
   "outputs": [],
   "source": [
    "import torch.optim as optim\n",
    "\n",
    "# Dummy dataset: 10 samples, 5 features each\n",
    "x = torch.randn(10, 5)\n",
    "y = torch.randn(10, 5)  # Regression target\n",
    "\n",
    "# Define a simple model with LayerNorm\n",
    "class SimpleModel(nn.Module):\n",
    "    def __init__(self, feature_dim):\n",
    "        super(SimpleModel, self).__init__()\n",
    "        self.layernorm = nn.LayerNorm(feature_dim)\n",
    "        self.fc = nn.Linear(feature_dim, feature_dim)  # Fully connected layer\n",
    "\n",
    "    def forward(self, x):\n",
    "        x = self.layernorm(x)  # Apply LayerNorm\n",
    "        return self.fc(x)  # Pass through a linear layer\n",
    "\n",
    "# Initialize model\n",
    "model = SimpleModel(feature_dim=5)"
   ]
  },
  {
   "cell_type": "markdown",
   "id": "f473f636-bc94-4efd-b004-9a1ec29108b8",
   "metadata": {},
   "source": [
    "# Print initial gamma and beta"
   ]
  },
  {
   "cell_type": "code",
   "execution_count": null,
   "id": "97bfe6f0-3434-4ed2-8998-5839caabba15",
   "metadata": {},
   "outputs": [],
   "source": [
    "# Print initial gamma and beta\n",
    "print(\"Before Training:\")\n",
    "print(\"Initial Gain (γ):\", model.layernorm.weight.data)\n",
    "print(\"Initial Bias (β):\", model.layernorm.bias.data)"
   ]
  },
  {
   "cell_type": "markdown",
   "id": "6a431e5c-ef0c-444b-8e64-c607e6ca1e9c",
   "metadata": {},
   "source": [
    "# Train for one iteration"
   ]
  },
  {
   "cell_type": "code",
   "execution_count": null,
   "id": "a04c94c8-a217-4220-bf32-e37d5b7cb8a6",
   "metadata": {},
   "outputs": [],
   "source": [
    "# Define loss and optimizer\n",
    "criterion = nn.MSELoss()\n",
    "optimizer = optim.SGD(model.parameters(), lr=0.1)\n",
    "\n",
    "# Train for one iteration\n",
    "for epoch in range(1):\n",
    "    optimizer.zero_grad()\n",
    "    outputs = model(x)\n",
    "    loss = criterion(outputs, y)\n",
    "    loss.backward()\n",
    "    optimizer.step()"
   ]
  },
  {
   "cell_type": "markdown",
   "id": "ef8122e6-5667-4121-aa99-2cbd2012d745",
   "metadata": {},
   "source": [
    "# Print gamma and beta after one training step"
   ]
  },
  {
   "cell_type": "code",
   "execution_count": null,
   "id": "40e7254b-91dc-4dd7-b6a3-85f27f9ad351",
   "metadata": {},
   "outputs": [],
   "source": [
    "# Print gamma and beta after one training step\n",
    "print(\"\\nAfter Training One Iteration:\")\n",
    "print(\"Updated Gain (γ):\", model.layernorm.weight.data)\n",
    "print(\"Updated Bias (β):\", model.layernorm.bias.data)"
   ]
  }
 ],
 "metadata": {
  "kernelspec": {
   "display_name": "Python 3 (ipykernel)",
   "language": "python",
   "name": "python3"
  },
  "language_info": {
   "codemirror_mode": {
    "name": "ipython",
    "version": 3
   },
   "file_extension": ".py",
   "mimetype": "text/x-python",
   "name": "python",
   "nbconvert_exporter": "python",
   "pygments_lexer": "ipython3",
   "version": "3.10.16"
  }
 },
 "nbformat": 4,
 "nbformat_minor": 5
}
