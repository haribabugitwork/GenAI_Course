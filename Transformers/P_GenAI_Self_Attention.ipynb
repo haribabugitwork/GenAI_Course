{
 "cells": [
  {
   "cell_type": "markdown",
   "id": "982428f4-693e-419f-a684-0d7473a4eed5",
   "metadata": {},
   "source": [
    "# Demonstrating Scaled Dot-Product Attention & Self-Attention in Transformers\n",
    "## This notebook will provide an intuitive and practical demonstration of Scaled Dot-Product Attention and Self-Attention in Transformers using PyTorch."
   ]
  },
  {
   "cell_type": "markdown",
   "id": "621a7154-1bbc-410d-85a4-e7622ce3cf79",
   "metadata": {},
   "source": [
    "![Description](Scaled_Dot_Product_Attention.png)"
   ]
  },
  {
   "cell_type": "code",
   "execution_count": 1,
   "id": "86a78fc9-b9b2-4c05-8766-17b41a788e1f",
   "metadata": {},
   "outputs": [],
   "source": [
    "import torch\n",
    "import torch.nn as nn\n",
    "import torch.nn.functional as F"
   ]
  },
  {
   "cell_type": "code",
   "execution_count": 2,
   "id": "907c6e65-825b-474e-a62f-7eaaec13be2d",
   "metadata": {},
   "outputs": [
    {
     "data": {
      "text/plain": [
       "<torch._C.Generator at 0x7f94ee29b930>"
      ]
     },
     "execution_count": 2,
     "metadata": {},
     "output_type": "execute_result"
    }
   ],
   "source": [
    "import random\n",
    "random.seed(42)  # Python random seed\n",
    "torch.manual_seed(42)  # PyTorch seed (CPU)"
   ]
  },
  {
   "cell_type": "code",
   "execution_count": 3,
   "id": "5d71ba22-cc40-4587-880f-19747e034698",
   "metadata": {},
   "outputs": [],
   "source": [
    "# Set print options: No scientific notation, 2 decimal places\n",
    "torch.set_printoptions(sci_mode=False, precision=4)"
   ]
  },
  {
   "cell_type": "markdown",
   "id": "345c089c-b5ba-4323-bedd-c37f957a44fb",
   "metadata": {},
   "source": [
    "# Define the maximum sequence length and the embedding dimension for a model:\n",
    "\n",
    "max_sequence_length = 10: Specifies the maximum number of tokens a sequence can have. If a sequence is shorter, it may be padded; if longer, it may be truncated.\n",
    "\n",
    "d_model = 8: Defines the size of each token’s embedding vector, meaning each token will be represented as a     8-dimensional vector."
   ]
  },
  {
   "cell_type": "code",
   "execution_count": null,
   "id": "3b41bf5e-0789-4d55-984a-e40711ffaa81",
   "metadata": {},
   "outputs": [],
   "source": []
  },
  {
   "cell_type": "markdown",
   "id": "779cd4ac-8435-4b94-a88a-6db4d75d81d6",
   "metadata": {},
   "source": [
    "# Define three linear layers using nn.Linear in PyTorch:\n",
    "\n",
    "w_query: Projects input embeddings into query space.\n",
    "\n",
    "w_key: Projects input embeddings into key space.\n",
    "\n",
    "w_value: Projects input embeddings into value space.\n",
    "## These linear layers transform input embeddings (d_model dimensional) into new representations of the same size (d_model → d_model)"
   ]
  },
  {
   "cell_type": "code",
   "execution_count": null,
   "id": "fc607257-8149-4d14-b3b0-17f2f1d9bec2",
   "metadata": {},
   "outputs": [],
   "source": []
  },
  {
   "cell_type": "markdown",
   "id": "2e9a6f22-919f-4ca8-a9cb-ec2e731ebbff",
   "metadata": {},
   "source": [
    "# w_query, has a learnable weight matrix of shape (d_model, d_model).\n",
    "\n",
    "## The .weight attribute stores the trainable parameters of this transformation.\n",
    "\n",
    "### Display the randomly initialized values of w_query.weight."
   ]
  },
  {
   "cell_type": "code",
   "execution_count": null,
   "id": "fa2a1d97-9238-45b8-b00e-dba8f9e33833",
   "metadata": {},
   "outputs": [],
   "source": []
  },
  {
   "cell_type": "markdown",
   "id": "cadf1f29-ff7c-405c-9ee1-69cb897c2c7d",
   "metadata": {},
   "source": [
    "# Create a tensor tokens with random values, scaled by a factor of 10.0, to simulate a sequence of token embeddings.\n",
    "\n",
    "Use torch.randn() to generate a random tensor of shape (max_sequence_length, d_model), where:\n",
    "\n",
    "max_sequence_length represents the number of tokens in the sequence.\n",
    "\n",
    "d_model represents the embedding dimension.\n",
    "\n",
    "Multiply the generated tensor by 10.0 to scale the values."
   ]
  },
  {
   "cell_type": "code",
   "execution_count": null,
   "id": "5a599c7e-007f-43da-b48c-bf65e0a3bbf4",
   "metadata": {},
   "outputs": [],
   "source": []
  },
  {
   "cell_type": "markdown",
   "id": "1247bcd9-9682-4329-80c6-d30fa9f31596",
   "metadata": {},
   "source": [
    "# Print the shape of the tensor tokens to confirm its dimensions."
   ]
  },
  {
   "cell_type": "code",
   "execution_count": null,
   "id": "27cb32f2-fec9-4220-ac49-2009e9d5b6d3",
   "metadata": {},
   "outputs": [],
   "source": []
  },
  {
   "cell_type": "markdown",
   "id": "48c6c050-a11f-4a81-86ea-2cae49b9daf2",
   "metadata": {},
   "source": [
    "# Print the tokens tensor to inspect its values"
   ]
  },
  {
   "cell_type": "code",
   "execution_count": null,
   "id": "6c394140-2545-4b1d-8dda-2a42059ae728",
   "metadata": {},
   "outputs": [],
   "source": []
  },
  {
   "cell_type": "markdown",
   "id": "a1939bb0-6cd8-4faf-85bb-920de1c559ae",
   "metadata": {},
   "source": [
    "# Apply linear transformations to the tokens tensor using w_query, w_key, and w_value to obtain query (q), key (k), and value (v) representations.\n",
    "\n",
    "## Pass tokens through the three linear layers to compute q, k, and v."
   ]
  },
  {
   "cell_type": "code",
   "execution_count": null,
   "id": "00475ad2-51a4-4462-8d1a-976b5f04eb6e",
   "metadata": {},
   "outputs": [],
   "source": []
  },
  {
   "cell_type": "markdown",
   "id": "20a27926-cb7f-4ca4-889c-a81b38d94630",
   "metadata": {},
   "source": [
    "# Print the shapes of q, k, and v to verify their dimensions."
   ]
  },
  {
   "cell_type": "code",
   "execution_count": null,
   "id": "2a36b478-8a8a-4407-a5f1-83462a95d20c",
   "metadata": {},
   "outputs": [],
   "source": []
  },
  {
   "cell_type": "markdown",
   "id": "9a1ba828-35d6-481d-a798-4c8f1d4c95b8",
   "metadata": {},
   "source": [
    "## Self Attention\n",
    "\n",
    "$$\n",
    "\\text{self attention} = softmax\\bigg(\\frac{Q.K^T}{\\sqrt{d_k}}\\bigg)\n",
    "$$\n",
    "\n",
    "$$\n",
    "\\text{new V} = \\text{self attention}.V\n",
    "$$"
   ]
  },
  {
   "cell_type": "markdown",
   "id": "708ffdc7-cdb2-4ad5-b6b8-d7a425e09911",
   "metadata": {},
   "source": [
    "# Compute the attention score matrix using torch.matmul(q, k.T) without scaling"
   ]
  },
  {
   "cell_type": "code",
   "execution_count": null,
   "id": "84611b03-0c27-454c-a05e-d30a93069840",
   "metadata": {},
   "outputs": [],
   "source": []
  },
  {
   "cell_type": "markdown",
   "id": "c2a3aa4b-b922-4c72-93ea-2bdb14289be0",
   "metadata": {},
   "source": [
    "# Observe that the variance of the dot product is significantly larger than the variance of q and k"
   ]
  },
  {
   "cell_type": "code",
   "execution_count": null,
   "id": "31158941-4fc0-4dc3-8290-104fa16bab67",
   "metadata": {},
   "outputs": [],
   "source": []
  },
  {
   "cell_type": "markdown",
   "id": "d7bb9e52-670b-451c-b88e-821a704ed472",
   "metadata": {},
   "source": [
    "# Compute the attention scores by taking the dot product of query (q) and key (k.T) using torch.matmul(q, k.T).\n",
    "\n",
    "# Normalize the scores by dividing them by the square root of d_model to stabilize the variance and prevent extremely large values.\n",
    "\n",
    "## Store the result in attn_scores, which will be used for the softmax operation in the attention mechanism."
   ]
  },
  {
   "cell_type": "code",
   "execution_count": null,
   "id": "a797931e-a1ea-4876-b5d9-35e55677692b",
   "metadata": {},
   "outputs": [],
   "source": []
  },
  {
   "cell_type": "markdown",
   "id": "df944ddd-2191-40ee-b917-7ff13ab5f5f4",
   "metadata": {},
   "source": [
    "# observe how scaling affects variance, compare q.var(), k.var(), and attn_scores.var() after applying the scaling"
   ]
  },
  {
   "cell_type": "code",
   "execution_count": null,
   "id": "44b1026f-8761-4107-be2f-29608767ad8f",
   "metadata": {},
   "outputs": [],
   "source": []
  },
  {
   "cell_type": "markdown",
   "id": "e770417e-2d8b-4b80-86e9-90d8cbe2b300",
   "metadata": {},
   "source": [
    "# Print the attention scores "
   ]
  },
  {
   "cell_type": "code",
   "execution_count": null,
   "id": "7c7926e6-c9fc-41a2-be0b-91d8b5ae4709",
   "metadata": {},
   "outputs": [],
   "source": []
  },
  {
   "cell_type": "markdown",
   "id": "615ab8e6-1d5f-42ce-bc3c-de85005c61c5",
   "metadata": {},
   "source": [
    "# Print the shape of the attention scores to understand their dimensions\n",
    "## The shape of attn_scores should be (max_sequence_length, max_sequence_length), indicating that each token attends to every other token in the sequence."
   ]
  },
  {
   "cell_type": "code",
   "execution_count": null,
   "id": "fcad2e3b-8953-4f3c-a00c-41933c948b37",
   "metadata": {},
   "outputs": [],
   "source": []
  },
  {
   "cell_type": "markdown",
   "id": "002b3c6a-3dbe-4b16-b2bf-90906b75907d",
   "metadata": {},
   "source": [
    "# Apply the softmax function to the attention scores to obtain attention weights\n",
    "## This converts the raw attention scores into probabilities, ensuring that the sum of attention weights across each row equals 1.\n",
    "\n",
    "## Higher values indicate stronger attention to specific tokens."
   ]
  },
  {
   "cell_type": "code",
   "execution_count": null,
   "id": "d85b218a-5c9b-4c02-b867-d88ba84882ce",
   "metadata": {},
   "outputs": [],
   "source": []
  },
  {
   "cell_type": "markdown",
   "id": "6677169b-179d-4231-b581-e9dae36cc5f4",
   "metadata": {},
   "source": [
    "# Print the attention weights "
   ]
  },
  {
   "cell_type": "code",
   "execution_count": null,
   "id": "da66f370-864b-448d-8721-41e54819d00f",
   "metadata": {},
   "outputs": [],
   "source": []
  },
  {
   "cell_type": "markdown",
   "id": "7fdaf4c2-c5f7-4eae-b2da-b08eeb7736c7",
   "metadata": {},
   "source": [
    "# Compute the weighted sum of value (v) vectors using the attention weights\n",
    "Each query now receives a context-aware representation by combining value vectors (v), where the contribution of each value is determined by the attention weights. This helps in focusing on the most relevant parts of the input."
   ]
  },
  {
   "cell_type": "code",
   "execution_count": null,
   "id": "955815d4-ca60-443f-9527-a3e43969b85d",
   "metadata": {},
   "outputs": [],
   "source": []
  },
  {
   "cell_type": "markdown",
   "id": "aafecd84-02ee-444e-bc06-1c3aaf9b1998",
   "metadata": {},
   "source": [
    "# Print the shape of the attention output to understand its dimensions\n",
    "The shape of attention_output should match the input shape of v, confirming that each token has been transformed into a new representation based on attention weights."
   ]
  },
  {
   "cell_type": "code",
   "execution_count": null,
   "id": "aabe3469-53d5-4bd4-bb6b-e5c8950cff8d",
   "metadata": {},
   "outputs": [],
   "source": []
  },
  {
   "cell_type": "markdown",
   "id": "4e831c2e-4b70-46e3-b7f1-e4bfc5275bb1",
   "metadata": {},
   "source": [
    "# Print the attention output to observe how the values have been transformed after applying attention weights\n",
    "This output represents the refined token representations after the attention mechanism has weighted and aggregated the value vectors (v) based on the computed attention scores."
   ]
  },
  {
   "cell_type": "code",
   "execution_count": null,
   "id": "98ed7b90-4efa-4faa-a3a2-d41c2a389bf3",
   "metadata": {},
   "outputs": [],
   "source": []
  }
 ],
 "metadata": {
  "kernelspec": {
   "display_name": "Python 3 (ipykernel)",
   "language": "python",
   "name": "python3"
  },
  "language_info": {
   "codemirror_mode": {
    "name": "ipython",
    "version": 3
   },
   "file_extension": ".py",
   "mimetype": "text/x-python",
   "name": "python",
   "nbconvert_exporter": "python",
   "pygments_lexer": "ipython3",
   "version": "3.10.16"
  }
 },
 "nbformat": 4,
 "nbformat_minor": 5
}
