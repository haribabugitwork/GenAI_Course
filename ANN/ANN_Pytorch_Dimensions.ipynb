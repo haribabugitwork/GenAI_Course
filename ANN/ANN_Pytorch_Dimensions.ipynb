{
 "cells": [
  {
   "cell_type": "markdown",
   "id": "4c7d29aa-daf5-4bcb-8848-d1ec621d2112",
   "metadata": {},
   "source": [
    "# Step-1: Import Libraries"
   ]
  },
  {
   "cell_type": "code",
   "execution_count": 1,
   "id": "7e16753d-509f-43af-a515-5b65c7a2fc76",
   "metadata": {},
   "outputs": [],
   "source": [
    "import torch\n",
    "import torch.nn as nn\n",
    "import torch.nn.functional as F\n",
    "import torch.optim as optim\n",
    "import numpy as np\n",
    "import matplotlib.pyplot as plt"
   ]
  },
  {
   "cell_type": "markdown",
   "id": "26917ce5-89bd-45fa-b729-fbda2a68e5dc",
   "metadata": {},
   "source": [
    "# Step-2: Define Model/Network"
   ]
  },
  {
   "cell_type": "code",
   "execution_count": 2,
   "id": "766db09f-28ee-4db4-aa94-9c05fac07715",
   "metadata": {},
   "outputs": [],
   "source": [
    "class ANN(nn.Module):\n",
    "    def __init__(self):\n",
    "        super(ANN, self).__init__()\n",
    "        self.fc1 = nn.Linear(10, 32)\n",
    "        self.fc2 = nn.Linear(32, 16)\n",
    "        self.fc3 = nn.Linear(16, 1)\n",
    "        \n",
    "    def forward(self, x):\n",
    "        print(f\" Input to First Hidden Layer = {x.shape}\")\n",
    "        x = F.relu(self.fc1(x))\n",
    "        print(f\" After First Hidden Layer = {x.shape}\")\n",
    "        x = F.relu(self.fc2(x))\n",
    "        print(f\" After Second Hidden Layer = {x.shape}\")\n",
    "        x = self.fc3(x)\n",
    "        print(f\" After Output Layer = {x.shape}\")\n",
    "        return x"
   ]
  },
  {
   "cell_type": "markdown",
   "id": "8b1e4742-1ebc-403e-971e-786dbf48d505",
   "metadata": {},
   "source": [
    "# Step-3: Generate Synthetic Data"
   ]
  },
  {
   "cell_type": "code",
   "execution_count": 3,
   "id": "db9a0662-371a-4b89-8b04-d7ad03c06764",
   "metadata": {},
   "outputs": [],
   "source": [
    "np.random.seed(24)\n",
    "torch.manual_seed(24)\n",
    "\n",
    "X = np.random.rand(100, 10).astype(np.float32)\n",
    "y = np.random.rand(100, 1).astype(np.float32)\n",
    "\n",
    "X_tensor = torch.tensor(X)\n",
    "y_tensor = torch.tensor(y)"
   ]
  },
  {
   "cell_type": "markdown",
   "id": "52ca937a-5c7a-4f79-a760-bdbaea196fbb",
   "metadata": {},
   "source": [
    "# Step-4: Create DataLoader for Training"
   ]
  },
  {
   "cell_type": "code",
   "execution_count": 4,
   "id": "cab43497-c05c-46a5-aed6-a921a56a8e08",
   "metadata": {},
   "outputs": [],
   "source": [
    "from torch.utils.data import DataLoader, TensorDataset\n",
    "\n",
    "dataset = TensorDataset(X_tensor, y_tensor)\n",
    "dataloader = DataLoader(dataset, batch_size=16, shuffle=True)"
   ]
  },
  {
   "cell_type": "markdown",
   "id": "bfab3ba3-9ece-41ad-b5bf-36dfaadc9de4",
   "metadata": {},
   "source": [
    "# Step-5: Initialize the Model, Loss Function and Optimizer"
   ]
  },
  {
   "cell_type": "code",
   "execution_count": 5,
   "id": "abc7746b-2fc5-48f0-82e8-20cffce72dca",
   "metadata": {},
   "outputs": [],
   "source": [
    "model = ANN()\n",
    "criterion = nn.MSELoss()\n",
    "optimizer = optim.SGD(model.parameters(), lr=0.0001)"
   ]
  },
  {
   "cell_type": "markdown",
   "id": "f5a3b163-209d-424c-b414-7a3946d09ec2",
   "metadata": {},
   "source": [
    "# Step-6: Train the Model"
   ]
  },
  {
   "cell_type": "code",
   "execution_count": 6,
   "id": "d8f8948f-117d-4218-8da6-02559fd1732b",
   "metadata": {},
   "outputs": [
    {
     "name": "stdout",
     "output_type": "stream",
     "text": [
      "Layer Weight Dimensions:\n",
      "fc1.weight: torch.Size([32, 10])\n",
      "fc1.bias: torch.Size([32])\n",
      "fc2.weight: torch.Size([16, 32])\n",
      "fc2.bias: torch.Size([16])\n",
      "fc3.weight: torch.Size([1, 16])\n",
      "fc3.bias: torch.Size([1])\n",
      "*******Processing Batch [1]  ***********\n",
      " Input to First Hidden Layer = torch.Size([16, 10])\n",
      " After First Hidden Layer = torch.Size([16, 32])\n",
      " After Second Hidden Layer = torch.Size([16, 16])\n",
      " After Output Layer = torch.Size([16, 1])\n",
      "*******Batch [1] Processed... *********** \n",
      "\n",
      "*******Processing Batch [2]  ***********\n",
      " Input to First Hidden Layer = torch.Size([16, 10])\n",
      " After First Hidden Layer = torch.Size([16, 32])\n",
      " After Second Hidden Layer = torch.Size([16, 16])\n",
      " After Output Layer = torch.Size([16, 1])\n",
      "*******Batch [2] Processed... *********** \n",
      "\n",
      "*******Processing Batch [3]  ***********\n",
      " Input to First Hidden Layer = torch.Size([16, 10])\n",
      " After First Hidden Layer = torch.Size([16, 32])\n",
      " After Second Hidden Layer = torch.Size([16, 16])\n",
      " After Output Layer = torch.Size([16, 1])\n",
      "*******Batch [3] Processed... *********** \n",
      "\n",
      "*******Processing Batch [4]  ***********\n",
      " Input to First Hidden Layer = torch.Size([16, 10])\n",
      " After First Hidden Layer = torch.Size([16, 32])\n",
      " After Second Hidden Layer = torch.Size([16, 16])\n",
      " After Output Layer = torch.Size([16, 1])\n",
      "*******Batch [4] Processed... *********** \n",
      "\n",
      "*******Processing Batch [5]  ***********\n",
      " Input to First Hidden Layer = torch.Size([16, 10])\n",
      " After First Hidden Layer = torch.Size([16, 32])\n",
      " After Second Hidden Layer = torch.Size([16, 16])\n",
      " After Output Layer = torch.Size([16, 1])\n",
      "*******Batch [5] Processed... *********** \n",
      "\n",
      "*******Processing Batch [6]  ***********\n",
      " Input to First Hidden Layer = torch.Size([16, 10])\n",
      " After First Hidden Layer = torch.Size([16, 32])\n",
      " After Second Hidden Layer = torch.Size([16, 16])\n",
      " After Output Layer = torch.Size([16, 1])\n",
      "*******Batch [6] Processed... *********** \n",
      "\n",
      "*******Processing Batch [7]  ***********\n",
      " Input to First Hidden Layer = torch.Size([4, 10])\n",
      " After First Hidden Layer = torch.Size([4, 32])\n",
      " After Second Hidden Layer = torch.Size([4, 16])\n",
      " After Output Layer = torch.Size([4, 1])\n",
      "*******Batch [7] Processed... *********** \n",
      "\n"
     ]
    },
    {
     "name": "stderr",
     "output_type": "stream",
     "text": [
      "[NVSHARE][WARN]: Couldn't open file /var/run/secrets/kubernetes.io/serviceaccount/namespace to read Pod namespace\n",
      "[NVSHARE][INFO]: Successfully initialized nvshare GPU\n",
      "[NVSHARE][INFO]: Client ID = 66e622a1c32f9b1c\n"
     ]
    }
   ],
   "source": [
    "epochs = 1\n",
    "losses = []\n",
    "batch = 0\n",
    "\n",
    "# Print dimensions of weights for each layer\n",
    "print(\"Layer Weight Dimensions:\")\n",
    "for name, param in model.named_parameters():\n",
    "    if param.requires_grad:\n",
    "        print(f\"{name}: {param.shape}\")\n",
    "        \n",
    "for epoch in range(epochs):\n",
    "    for batch_X, batch_y in dataloader:\n",
    "        \n",
    "        print(f\"*******Processing Batch [{batch+1}]  ***********\")\n",
    "        predictions = model(batch_X)\n",
    "        loss = criterion(predictions, batch_y)\n",
    "        \n",
    "        optimizer.zero_grad()\n",
    "        loss.backward()\n",
    "        optimizer.step()\n",
    "        \n",
    "        \n",
    "                \n",
    "        print(f\"*******Batch [{batch+1}] Processed... *********** \\n\")\n",
    "        batch = batch + 1\n",
    "    losses.append(loss.item())\n",
    "    \n",
    "    if (epoch + 1) % 10 == 0:\n",
    "        print(f\"Epoch [{epoch+1}/{epochs}]. Loss: {loss.item():.4f}\")"
   ]
  },
  {
   "cell_type": "markdown",
   "id": "c7db5130-98c8-4cc0-8b72-ffa23b75f73d",
   "metadata": {},
   "source": [
    "# Step-7: Visualize the Training Loss"
   ]
  },
  {
   "cell_type": "code",
   "execution_count": 7,
   "id": "cb7997e0-5a08-42e6-8fdd-8f3130fdf2b3",
   "metadata": {},
   "outputs": [
    {
     "data": {
      "image/png": "[encoded data removed]",
      "text/plain": [
       "<Figure size 640x480 with 1 Axes>"
      ]
     },
     "metadata": {},
     "output_type": "display_data"
    }
   ],
   "source": [
    "plt.plot(range(epochs), losses)\n",
    "plt.xlabel('Epochs')\n",
    "plt.ylabel('Loss')\n",
    "plt.title('Training Loss Curve')\n",
    "plt.show()"
   ]
  },
  {
   "cell_type": "code",
   "execution_count": null,
   "id": "2e6169ae-912d-409c-8ba7-5526250c9218",
   "metadata": {},
   "outputs": [],
   "source": []
  }
 ],
 "metadata": {
  "kernelspec": {
   "display_name": "Python 3 (ipykernel)",
   "language": "python",
   "name": "python3"
  },
  "language_info": {
   "codemirror_mode": {
    "name": "ipython",
    "version": 3
   },
   "file_extension": ".py",
   "mimetype": "text/x-python",
   "name": "python",
   "nbconvert_exporter": "python",
   "pygments_lexer": "ipython3",
   "version": "3.10.8"
  }
 },
 "nbformat": 4,
 "nbformat_minor": 5
}
