{
 "cells": [
  {
   "cell_type": "markdown",
   "id": "e409b7c4-6978-4c0e-8aeb-2b48d70ea878",
   "metadata": {},
   "source": [
    "#### Exercise 1 - Binary Cross Entropy and its derivative\n",
    "##### Task-1: Implement BCE loss function\n",
    "##### Task-2: Implement the derivative of BCE loss function"
   ]
  },
  {
   "cell_type": "markdown",
   "id": "f10a880e-07f3-47fd-9fd0-ecdd1e5d688e",
   "metadata": {},
   "source": [
    "### Import required libraries"
   ]
  },
  {
   "cell_type": "code",
   "execution_count": 1,
   "id": "98b019b2-b13f-42c7-83d1-8fa9b1425266",
   "metadata": {},
   "outputs": [],
   "source": [
    "import numpy as np"
   ]
  },
  {
   "cell_type": "markdown",
   "id": "4ad337f8-0302-4b06-98cb-8668e7fcf8ef",
   "metadata": {},
   "source": [
    "### Task-1: Implement BCE loss function"
   ]
  },
  {
   "cell_type": "code",
   "execution_count": 2,
   "id": "29151222-9b26-4400-aa18-238e70c581d8",
   "metadata": {
    "nbgrader": {
     "grade": false,
     "grade_id": "cell-f43878c7bcb7556f",
     "locked": false,
     "schema_version": 3,
     "solution": true,
     "task": false
    },
    "tags": []
   },
   "outputs": [],
   "source": [
    "def binary_cross_entropy(y_pred, y_true):\n",
    "\n",
    "    return -(y_true * np.log(y_pred) + (1 - y_true) * np.log(1 - y_pred))"
   ]
  },
  {
   "cell_type": "code",
   "execution_count": 3,
   "id": "df50d747-8731-4ddf-ad95-0f873f569a87",
   "metadata": {
    "nbgrader": {
     "grade": true,
     "grade_id": "cell-d509e8f5bbc0a548",
     "locked": true,
     "points": 2,
     "schema_version": 3,
     "solution": false,
     "task": false
    },
    "tags": []
   },
   "outputs": [],
   "source": [
    "# Test case: Imperfect prediction with floating-point values (y_pred = 0.8, y_true = 1)\n",
    "y_pred, y_true = 0.8, 1\n",
    "expected_output = -np.log(0.8)\n",
    "output = binary_cross_entropy(y_pred, y_true)\n",
    "assert np.isclose(output, expected_output, atol=1e-3), f\"Expected {expected_output}, but got {output}\""
   ]
  },
  {
   "cell_type": "markdown",
   "id": "750f183e-7bc1-4df4-b0aa-9cf993570882",
   "metadata": {},
   "source": [
    "### Task-2: Implement the derivative of BCE loss function"
   ]
  },
  {
   "cell_type": "code",
   "execution_count": 4,
   "id": "8ee20008-f5f5-4c07-a143-e1775f8b2060",
   "metadata": {
    "nbgrader": {
     "grade": false,
     "grade_id": "cell-56b16bb374625825",
     "locked": false,
     "schema_version": 3,
     "solution": true,
     "task": false
    },
    "tags": []
   },
   "outputs": [],
   "source": [
    "def bce_derivative(y_pred, y_true):\n",
    "   \n",
    "    return (y_pred - y_true) / (y_pred * (1 - y_pred))"
   ]
  },
  {
   "cell_type": "code",
   "execution_count": 5,
   "id": "ffe356c8-c4c7-43ad-ac09-19c83f60f149",
   "metadata": {
    "nbgrader": {
     "grade": true,
     "grade_id": "cell-01c8b0a1f8bd3bb0",
     "locked": true,
     "points": 2,
     "schema_version": 3,
     "solution": false,
     "task": false
    },
    "tags": []
   },
   "outputs": [],
   "source": [
    "y_pred, y_true = 0.5, 1\n",
    "expected_output = (0.5 - 1) / (0.5 * (1 - 0.5))  # Expected result should be -2.0\n",
    "output = bce_derivative(y_pred, y_true)\n",
    "assert np.isclose(output, expected_output, atol=1e-3), f\"Expected {expected_output}, but got {output}\""
   ]
  },
  {
   "cell_type": "code",
   "execution_count": 6,
   "id": "4f6ef948-7e5a-45e0-ad89-e996edaf96ac",
   "metadata": {},
   "outputs": [],
   "source": [
    "# binary classification with target label y = 1\n",
    "y_true = 1\n",
    "# Initial prediction probability\n",
    "y_pred = 0.0085"
   ]
  },
  {
   "cell_type": "code",
   "execution_count": 7,
   "id": "6e529b96-da69-45ff-adc5-8b39f051c880",
   "metadata": {},
   "outputs": [
    {
     "name": "stdout",
     "output_type": "stream",
     "text": [
      " y_true = 1   y_pred = 0.0085   Loss = 4.77\n"
     ]
    }
   ],
   "source": [
    "loss = binary_cross_entropy(y_pred, y_true)\n",
    "print(f\" y_true = {y_true}   y_pred = {y_pred}   Loss = {loss:0.2f}\")"
   ]
  },
  {
   "cell_type": "code",
   "execution_count": 8,
   "id": "62c558ff-188f-4884-9d32-0b1f333a11b6",
   "metadata": {},
   "outputs": [],
   "source": [
    "# binary classification with target label y = 0\n",
    "y_true = 0\n",
    "# Initial prediction probability\n",
    "y_pred = 0.95"
   ]
  },
  {
   "cell_type": "code",
   "execution_count": 9,
   "id": "ab3259bd-1ceb-432a-8173-532b4bc4fc01",
   "metadata": {},
   "outputs": [
    {
     "name": "stdout",
     "output_type": "stream",
     "text": [
      " y_true = 0   y_pred = 0.95   Loss = 3.00\n"
     ]
    }
   ],
   "source": [
    "loss = binary_cross_entropy(y_pred, y_true)\n",
    "print(f\" y_true = {y_true}   y_pred = {y_pred}   Loss = {loss:0.2f}\")"
   ]
  },
  {
   "cell_type": "code",
   "execution_count": 10,
   "id": "244defd8-6ea2-4ecd-845e-0721308a6f13",
   "metadata": {},
   "outputs": [],
   "source": [
    "# exit(0)"
   ]
  }
 ],
 "metadata": {
  "kernelspec": {
   "display_name": "Python 3 (ipykernel)",
   "language": "python",
   "name": "python3"
  },
  "language_info": {
   "codemirror_mode": {
    "name": "ipython",
    "version": 3
   },
   "file_extension": ".py",
   "mimetype": "text/x-python",
   "name": "python",
   "nbconvert_exporter": "python",
   "pygments_lexer": "ipython3",
   "version": "3.10.8"
  }
 },
 "nbformat": 4,
 "nbformat_minor": 5
}
