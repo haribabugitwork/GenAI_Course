{
 "cells": [
  {
   "cell_type": "markdown",
   "id": "0e2f82de-bb7f-4eb9-8c8a-7387162aaa42",
   "metadata": {},
   "source": [
    "## Exercise 1 - Implement a simple math expression in Python\n",
    "### Task-1: Simple Linear Function\n",
    "### Task-2: Compute Output Values for Input Array\n",
    "### Task-3: Linear Combination for Prediction\n",
    "### Task-4: e power Function\n",
    "### Task-5: log Function"
   ]
  },
  {
   "cell_type": "code",
   "execution_count": 1,
   "id": "e9959463-4972-428e-a335-9e6f560b396a",
   "metadata": {},
   "outputs": [],
   "source": [
    "import numpy as np"
   ]
  },
  {
   "cell_type": "markdown",
   "id": "8f3f1e76-1cdb-4bc7-9810-394d58ac2c5e",
   "metadata": {},
   "source": [
    "## Task-1: Simple Linear Function"
   ]
  },
  {
   "cell_type": "markdown",
   "id": "5363eb38-389e-46ea-87cc-ae99ad2c2ee3",
   "metadata": {},
   "source": [
    "### Description: Implement a function f(x) that takes an input x and returns the value of the linear equation 2x + 1.\n",
    "#### Input: An integer or a float x.\n",
    "#### Output: The result of the expression 2x + 1."
   ]
  },
  {
   "cell_type": "code",
   "execution_count": 2,
   "id": "d32fd014-3126-4366-9bf0-5525a5ad8f77",
   "metadata": {
    "nbgrader": {
     "grade": false,
     "grade_id": "cell-3acd16b1c1fa9996",
     "locked": false,
     "schema_version": 3,
     "solution": true,
     "task": false
    },
    "tags": []
   },
   "outputs": [],
   "source": [
    "def f(x):\n",
    "    return 2*x + 1"
   ]
  },
  {
   "cell_type": "code",
   "execution_count": 3,
   "id": "1d959361-bb5a-40fc-abba-6edc10152ad4",
   "metadata": {},
   "outputs": [
    {
     "data": {
      "text/plain": [
       "5.0"
      ]
     },
     "execution_count": 3,
     "metadata": {},
     "output_type": "execute_result"
    }
   ],
   "source": [
    "x = 2.0\n",
    "f(x)"
   ]
  },
  {
   "cell_type": "code",
   "execution_count": 4,
   "id": "ae2ca578-a198-4483-a2f2-052033a37b41",
   "metadata": {
    "nbgrader": {
     "grade": true,
     "grade_id": "cell-a43b340e00800983",
     "locked": true,
     "points": 2,
     "schema_version": 3,
     "solution": false,
     "task": false
    },
    "tags": []
   },
   "outputs": [],
   "source": [
    "assert f(2.0) == 5.0"
   ]
  },
  {
   "cell_type": "code",
   "execution_count": 5,
   "id": "e293a433-e494-4f74-8833-11104e678e89",
   "metadata": {},
   "outputs": [
    {
     "data": {
      "text/plain": [
       "array([-3, -1,  5,  2])"
      ]
     },
     "execution_count": 5,
     "metadata": {},
     "output_type": "execute_result"
    }
   ],
   "source": [
    "x_values = np.array([-3, -1, 5, 2])\n",
    "x_values"
   ]
  },
  {
   "cell_type": "markdown",
   "id": "0679fe11-2004-48b1-a277-e6c4b9f936c3",
   "metadata": {},
   "source": [
    "## Task-2: Compute Output Values for Input Array"
   ]
  },
  {
   "cell_type": "markdown",
   "id": "8eee3e69-eba3-448b-9ef9-e53e76a86608",
   "metadata": {},
   "source": [
    "### Description: Given an above x_values, create y_values where each element is the output of the function f(x) applied to the corresponding element of x_values.\n",
    "\n",
    "#### Result: y_values such that each y_values[i] = 2* x_values[i] + 1"
   ]
  },
  {
   "cell_type": "code",
   "execution_count": 6,
   "id": "8eff01eb-faa3-42af-8332-bc21a494c5b1",
   "metadata": {
    "nbgrader": {
     "grade": false,
     "grade_id": "cell-d5b1462d5b32f078",
     "locked": false,
     "schema_version": 3,
     "solution": true,
     "task": false
    },
    "tags": []
   },
   "outputs": [
    {
     "data": {
      "text/plain": [
       "array([-5, -1, 11,  5])"
      ]
     },
     "execution_count": 6,
     "metadata": {},
     "output_type": "execute_result"
    }
   ],
   "source": [
    "# Complete the code to - Calculate corresponding y values using x values (above cell) and f(x)\n",
    "\n",
    "y_values = f(x_values)\n",
    "\n",
    "y_values"
   ]
  },
  {
   "cell_type": "markdown",
   "id": "36d82490-94d1-4e55-843f-43e223e3eb16",
   "metadata": {},
   "source": [
    "## Task-3: Linear Combination for Prediction"
   ]
  },
  {
   "cell_type": "markdown",
   "id": "57459a7b-a7d6-4bcd-a601-1bd586e65076",
   "metadata": {},
   "source": [
    "### Description: Create a function that calculates the linear combination of input data X with weights W and adds the bias b.\n",
    "\n",
    "#### Input:\n",
    "#### X: Input data (features).\n",
    "#### W: Weights.\n",
    "#### b: Bias term.\n",
    "#### Output: Predicted output from the linear model, computed as output = np.dot(W, X) + b."
   ]
  },
  {
   "cell_type": "code",
   "execution_count": 7,
   "id": "86e22194-fbf6-48b3-bfd9-c2d66b490628",
   "metadata": {
    "nbgrader": {
     "grade": false,
     "grade_id": "cell-0cbb705c59d3224c",
     "locked": false,
     "schema_version": 3,
     "solution": true,
     "task": false
    },
    "tags": []
   },
   "outputs": [],
   "source": [
    "def forward_propagation(X, W, b):\n",
    "   \n",
    "    # compute the sum of the product of the input and the weights\n",
    "    output = np.dot(W, X) + b\n",
    "\n",
    "    # return the predicted price\n",
    "    return output\n"
   ]
  },
  {
   "cell_type": "code",
   "execution_count": 8,
   "id": "156d9b84-2a88-4420-ac67-da68a28afd88",
   "metadata": {
    "nbgrader": {
     "grade": true,
     "grade_id": "cell-d473bf061cff83fd",
     "locked": true,
     "points": 2,
     "schema_version": 3,
     "solution": false,
     "task": false
    },
    "tags": []
   },
   "outputs": [],
   "source": [
    "X_test = np.array([[1, 2], [3, 4]])\n",
    "W_test = np.array([[0.5, 1.5]])\n",
    "b_test = 0\n",
    "output = forward_propagation(X_test, W_test, b_test)\n",
    "expected_output = np.array([[5, 7]])\n",
    "assert np.allclose(output, expected_output)  # Should match dot product without bias"
   ]
  },
  {
   "cell_type": "markdown",
   "id": "ade256c7-ed7b-489c-8927-fff3810d5aeb",
   "metadata": {},
   "source": [
    "## Task-4: e power Function"
   ]
  },
  {
   "cell_type": "markdown",
   "id": "574015c8-237a-4c39-a3bf-0ec861aff15a",
   "metadata": {},
   "source": [
    "### Description: Implement a function e power(x) that takes an input x and returns the value of the expression e power(x).\n",
    "\n",
    "#### Input: An integer or a float x.\n",
    "#### Output: The result of the expression e power(x)."
   ]
  },
  {
   "cell_type": "code",
   "execution_count": 9,
   "id": "b2256898-c736-41a4-9cac-fe1ebe6e3827",
   "metadata": {
    "nbgrader": {
     "grade": false,
     "grade_id": "cell-eec303e7f63227a6",
     "locked": false,
     "schema_version": 3,
     "solution": true,
     "task": false
    },
    "tags": []
   },
   "outputs": [],
   "source": [
    "def e_power(x):\n",
    "\n",
    "    return np.exp(x)"
   ]
  },
  {
   "cell_type": "code",
   "execution_count": 10,
   "id": "10f1c7ac-70e0-49c0-9d4d-94a2754f7ce7",
   "metadata": {},
   "outputs": [
    {
     "data": {
      "text/plain": [
       "7.38905609893065"
      ]
     },
     "execution_count": 10,
     "metadata": {},
     "output_type": "execute_result"
    }
   ],
   "source": [
    "x = 2.0\n",
    "e_power(x)"
   ]
  },
  {
   "cell_type": "code",
   "execution_count": 11,
   "id": "129b9140-1398-4121-bb3e-dbbeab74cd96",
   "metadata": {
    "nbgrader": {
     "grade": true,
     "grade_id": "cell-fa82d1f65e767efb",
     "locked": true,
     "points": 1,
     "schema_version": 3,
     "solution": false,
     "task": false
    },
    "tags": []
   },
   "outputs": [],
   "source": [
    "assert round(e_power(2.0), 2) == 7.39, \"The result should be approximately equal to 7.39\""
   ]
  },
  {
   "cell_type": "markdown",
   "id": "03b2780a-b8e1-4486-a97f-2c065515f1a9",
   "metadata": {},
   "source": [
    "## Task-5: log Function"
   ]
  },
  {
   "cell_type": "markdown",
   "id": "55aab395-b381-45eb-a793-9009ef69c2f5",
   "metadata": {},
   "source": [
    "### Description: Implement a function log f(x) that takes an input x and returns the value of the expression log(x).\n",
    "\n",
    "#### Input: An integer or a float x.\n",
    "#### Output: The result of the expression log(x)"
   ]
  },
  {
   "cell_type": "code",
   "execution_count": 12,
   "id": "48fb5045-ca10-4ddd-8850-1dd3bcc70e9e",
   "metadata": {
    "nbgrader": {
     "grade": false,
     "grade_id": "cell-a85611e6b7ca7b16",
     "locked": false,
     "schema_version": 3,
     "solution": true,
     "task": false
    },
    "tags": []
   },
   "outputs": [],
   "source": [
    "def log_f(x):\n",
    "     \n",
    "    return np.log(x)"
   ]
  },
  {
   "cell_type": "code",
   "execution_count": 13,
   "id": "aff69926-8afe-44bd-90ce-1aeaff8b8abf",
   "metadata": {},
   "outputs": [
    {
     "data": {
      "text/plain": [
       "0.6931471805599453"
      ]
     },
     "execution_count": 13,
     "metadata": {},
     "output_type": "execute_result"
    }
   ],
   "source": [
    "x = 2.0\n",
    "log_f(x)"
   ]
  },
  {
   "cell_type": "code",
   "execution_count": 14,
   "id": "32f03f32-6a64-4589-b4a0-04c5b6087fd4",
   "metadata": {
    "nbgrader": {
     "grade": true,
     "grade_id": "cell-4cbb7122d1c8bdee",
     "locked": true,
     "points": 2,
     "schema_version": 3,
     "solution": false,
     "task": false
    },
    "tags": []
   },
   "outputs": [],
   "source": [
    "assert round(log_f(2.0), 2) == 0.69, \"The result should be approximately equal to 0.69\""
   ]
  }
 ],
 "metadata": {
  "kernelspec": {
   "display_name": "Python 3 (ipykernel)",
   "language": "python",
   "name": "python3"
  },
  "language_info": {
   "codemirror_mode": {
    "name": "ipython",
    "version": 3
   },
   "file_extension": ".py",
   "mimetype": "text/x-python",
   "name": "python",
   "nbconvert_exporter": "python",
   "pygments_lexer": "ipython3",
   "version": "3.10.8"
  }
 },
 "nbformat": 4,
 "nbformat_minor": 5
}
