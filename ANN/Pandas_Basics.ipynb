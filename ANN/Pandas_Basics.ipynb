{
 "cells": [
  {
   "cell_type": "markdown",
   "id": "4426766a-d520-4f94-a78f-287b717c68a9",
   "metadata": {},
   "source": [
    "### Pandas Fundamentals: Hands-On Testing\n",
    "\n",
    "Description: This hands-on assessment is designed to test your knowledge and skills \n",
    "in using Pandas for data manipulation and analysis. You will work with the IPL matches dataset\n",
    "to complete tasks involving data access, cleaning, and basic preprocessing."
   ]
  },
  {
   "cell_type": "markdown",
   "id": "faf64ce4-828f-4d22-bf60-01f87cf0670a",
   "metadata": {},
   "source": [
    "#### Exercise 1 - Pandas Fundamentals: Hands-On Testing\n",
    "##### Task-1: Load the ipl_matches.csv file into a DataFrame\n",
    "##### Task-2: Display the first two rows using the head() method\n",
    "##### Task-3: Calculate the number of missing values in the \"winner\" column\n",
    "##### Task-4: Create a DataFrame that contains only rows where the city is \"Mumbai\"\n",
    "##### Task-5: Drop specific column(s) from the dataframe"
   ]
  },
  {
   "cell_type": "markdown",
   "id": "1aaff332-4e68-4523-88e1-dc2b8bc8a7a1",
   "metadata": {},
   "source": [
    "#### Import required libraries"
   ]
  },
  {
   "cell_type": "code",
   "execution_count": null,
   "id": "13d32d2e-a921-4c40-b7f7-59ef9a372b2b",
   "metadata": {},
   "outputs": [],
   "source": [
    "import pandas as pd\n",
    "import numpy as np"
   ]
  },
  {
   "cell_type": "markdown",
   "id": "49b13ef4-a6da-49e5-9179-14dcb97d0268",
   "metadata": {},
   "source": [
    "#### Task-1: Load the ipl_matches.csv file into a DataFrame called ipl_matches_df"
   ]
  },
  {
   "cell_type": "code",
   "execution_count": null,
   "id": "0acda26f-d856-438b-a11b-c8a423f7fbd3",
   "metadata": {
    "nbgrader": {
     "grade": false,
     "grade_id": "cell-0518d8b5288c2910",
     "locked": false,
     "schema_version": 3,
     "solution": true,
     "task": false
    },
    "tags": []
   },
   "outputs": [],
   "source": [
    "# Load the IPL data\n",
    "ipl_matches_df = pd.read_csv(\"ipl_matches.csv\")  # Make sure this file is in the correct path"
   ]
  },
  {
   "cell_type": "markdown",
   "id": "a7c27151-3d01-478c-bc29-1d62ff4de9b6",
   "metadata": {},
   "source": [
    "#### Task-2: Display the first two rows of ipl_matches_df using the head() method."
   ]
  },
  {
   "cell_type": "code",
   "execution_count": null,
   "id": "222386f7-5fb2-4df6-a586-fef1d87c4569",
   "metadata": {
    "nbgrader": {
     "grade": false,
     "grade_id": "cell-616a95f2e9b1f52b",
     "locked": false,
     "schema_version": 3,
     "solution": true,
     "task": false
    },
    "tags": []
   },
   "outputs": [],
   "source": [
    "# Display the first two rows\n",
    "ipl_matches_df.head(2)"
   ]
  },
  {
   "cell_type": "markdown",
   "id": "2cf79ef7-4e05-4458-8f87-e10254a9bc9b",
   "metadata": {},
   "source": [
    "#### Task-3: Calculate the number of missing values in the \"winner\" column of ipl_matches_df"
   ]
  },
  {
   "cell_type": "code",
   "execution_count": null,
   "id": "dde638b7-1db5-43ce-af99-9734ae4b8b13",
   "metadata": {
    "nbgrader": {
     "grade": false,
     "grade_id": "cell-8ca36146b760da15",
     "locked": false,
     "schema_version": 3,
     "solution": true,
     "task": false
    },
    "tags": []
   },
   "outputs": [],
   "source": [
    "# Display the number of missing values in the 'winner' column\n",
    "ipl_matches_df.isna().sum().winner"
   ]
  },
  {
   "cell_type": "markdown",
   "id": "e1824b53-2194-4c22-ba1f-181802162325",
   "metadata": {},
   "source": [
    "#### Task-4: Create a DataFrame called mumbai_matches that contains only rows where the city is \"Mumbai\"."
   ]
  },
  {
   "cell_type": "code",
   "execution_count": null,
   "id": "0632e0bb-d062-4da8-a394-ff4e87c29b96",
   "metadata": {
    "nbgrader": {
     "grade": false,
     "grade_id": "cell-ecc196346e07c3a6",
     "locked": false,
     "schema_version": 3,
     "solution": true,
     "task": false
    },
    "tags": []
   },
   "outputs": [],
   "source": [
    "# Filtering rows where city is Mumbai\n",
    "mumbai_matches = ipl_matches_df[ipl_matches_df['city'] == \"Mumbai\"]"
   ]
  },
  {
   "cell_type": "markdown",
   "id": "89e51270-b77c-440b-909f-626c9e246750",
   "metadata": {},
   "source": [
    "#### Task-5: Drop the column umpire3 from ipl_matches_df"
   ]
  },
  {
   "cell_type": "code",
   "execution_count": null,
   "id": "277824f9-578d-4dca-aaff-fd3e6a36caf3",
   "metadata": {
    "nbgrader": {
     "grade": false,
     "grade_id": "cell-f2161463b0865165",
     "locked": false,
     "schema_version": 3,
     "solution": true,
     "task": false
    },
    "tags": []
   },
   "outputs": [],
   "source": [
    "# Drop specific column 'umpire3', hint: use drop and make sure you pass inplace as well\n",
    "ipl_matches_df.drop(columns=['umpire3'], errors='ignore', inplace=True)"
   ]
  }
 ],
 "metadata": {
  "kernelspec": {
   "display_name": "Python 3 (ipykernel)",
   "language": "python",
   "name": "python3"
  },
  "language_info": {
   "codemirror_mode": {
    "name": "ipython",
    "version": 3
   },
   "file_extension": ".py",
   "mimetype": "text/x-python",
   "name": "python",
   "nbconvert_exporter": "python",
   "pygments_lexer": "ipython3",
   "version": "3.10.8"
  }
 },
 "nbformat": 4,
 "nbformat_minor": 5
}
