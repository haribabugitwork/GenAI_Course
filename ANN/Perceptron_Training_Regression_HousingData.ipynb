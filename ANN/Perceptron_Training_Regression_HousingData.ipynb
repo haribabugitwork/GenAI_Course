{
 "cells": [
  {
   "cell_type": "markdown",
   "id": "156b198e-84c3-446a-b58c-f8f474c0b487",
   "metadata": {},
   "source": [
    "#### Exercise 1 - Regression: Training and optimization for Perceptron\n",
    "##### Task-1: Compute the gradient of MSE with respect to the parameters (w, b)\n",
    "##### Task-2: Update parameters W (weights) and b (bias)"
   ]
  },
  {
   "cell_type": "markdown",
   "id": "c2343f1b-ef1c-44ef-a943-f8664d813496",
   "metadata": {},
   "source": [
    "### Import required libraries"
   ]
  },
  {
   "cell_type": "code",
   "execution_count": 1,
   "id": "7a0c78aa-2ece-49c4-8aef-07bbc3dd17bc",
   "metadata": {},
   "outputs": [],
   "source": [
    "import pandas as pd\n",
    "import numpy as np"
   ]
  },
  {
   "cell_type": "markdown",
   "id": "bf78909b-3597-4ad7-bc51-02223d62eab4",
   "metadata": {},
   "source": [
    "### Load and Explore Housing Prices Dataset"
   ]
  },
  {
   "cell_type": "code",
   "execution_count": 2,
   "id": "a5aa502e-9bb8-46dd-89b2-f38a35796a9a",
   "metadata": {
    "tags": []
   },
   "outputs": [],
   "source": [
    "housing_df = pd.read_csv('house_prices_data.csv')"
   ]
  },
  {
   "cell_type": "code",
   "execution_count": 3,
   "id": "8a197350-6fbe-45e4-88ea-1dd2384b42b8",
   "metadata": {},
   "outputs": [
    {
     "data": {
      "text/html": [
       "<div>\n",
       "<style scoped>\n",
       "    .dataframe tbody tr th:only-of-type {\n",
       "        vertical-align: middle;\n",
       "    }\n",
       "\n",
       "    .dataframe tbody tr th {\n",
       "        vertical-align: top;\n",
       "    }\n",
       "\n",
       "    .dataframe thead th {\n",
       "        text-align: right;\n",
       "    }\n",
       "</style>\n",
       "<table border=\"1\" class=\"dataframe\">\n",
       "  <thead>\n",
       "    <tr style=\"text-align: right;\">\n",
       "      <th></th>\n",
       "      <th>Area</th>\n",
       "      <th>Price</th>\n",
       "    </tr>\n",
       "  </thead>\n",
       "  <tbody>\n",
       "    <tr>\n",
       "      <th>0</th>\n",
       "      <td>21</td>\n",
       "      <td>39</td>\n",
       "    </tr>\n",
       "    <tr>\n",
       "      <th>1</th>\n",
       "      <td>16</td>\n",
       "      <td>32</td>\n",
       "    </tr>\n",
       "    <tr>\n",
       "      <th>2</th>\n",
       "      <td>24</td>\n",
       "      <td>36</td>\n",
       "    </tr>\n",
       "  </tbody>\n",
       "</table>\n",
       "</div>"
      ],
      "text/plain": [
       "   Area  Price\n",
       "0    21     39\n",
       "1    16     32\n",
       "2    24     36"
      ]
     },
     "execution_count": 3,
     "metadata": {},
     "output_type": "execute_result"
    }
   ],
   "source": [
    "housing_df.head()"
   ]
  },
  {
   "cell_type": "code",
   "execution_count": 4,
   "id": "35c575a0-b25e-4215-a718-912b2cc54015",
   "metadata": {},
   "outputs": [],
   "source": [
    "X = housing_df.Area.to_numpy()"
   ]
  },
  {
   "cell_type": "code",
   "execution_count": 5,
   "id": "678cc22b-3311-4f42-bf52-6010a82748d8",
   "metadata": {},
   "outputs": [
    {
     "data": {
      "text/plain": [
       "array([21, 16, 24])"
      ]
     },
     "execution_count": 5,
     "metadata": {},
     "output_type": "execute_result"
    }
   ],
   "source": [
    "X"
   ]
  },
  {
   "cell_type": "code",
   "execution_count": 6,
   "id": "1de4401c-ac5a-481b-b478-58242fd84a8e",
   "metadata": {
    "tags": []
   },
   "outputs": [],
   "source": [
    "y = housing_df.Price.to_numpy()"
   ]
  },
  {
   "cell_type": "code",
   "execution_count": 7,
   "id": "9de06888-357b-4a14-b06d-454d92f126cb",
   "metadata": {},
   "outputs": [
    {
     "data": {
      "text/plain": [
       "array([39, 32, 36])"
      ]
     },
     "execution_count": 7,
     "metadata": {},
     "output_type": "execute_result"
    }
   ],
   "source": [
    "y"
   ]
  },
  {
   "cell_type": "markdown",
   "id": "864f230a-5db9-4e6c-995f-c9bcf835e1a3",
   "metadata": {},
   "source": [
    "### Implement Forward Propagation for Housing Price Prediction"
   ]
  },
  {
   "cell_type": "code",
   "execution_count": 8,
   "id": "50bdc64b-3137-41e5-a684-1940b1c66562",
   "metadata": {
    "tags": []
   },
   "outputs": [],
   "source": [
    "def forward_propagation(X, W, b):\n",
    "   \n",
    "    # compute the sum of the product of the input and the weights\n",
    "    y_pred = np.dot(W, X) + b\n",
    "\n",
    "    # return the predicted price\n",
    "    return y_pred"
   ]
  },
  {
   "cell_type": "markdown",
   "id": "e2c9c47d-0ab9-4804-9598-116c1daee4bc",
   "metadata": {},
   "source": [
    "### Implement Mean Squared Error (MSE) Computation"
   ]
  },
  {
   "cell_type": "code",
   "execution_count": 9,
   "id": "9b204cae-dc84-4645-bc50-0126c4a61921",
   "metadata": {
    "tags": []
   },
   "outputs": [],
   "source": [
    "def compute_mse(y, y_pred):\n",
    "    m = y.shape[0]\n",
    "    cost = (1/m) * np.sum((y - y_pred) ** 2)\n",
    "    \n",
    "    return cost"
   ]
  },
  {
   "cell_type": "markdown",
   "id": "7eb50920-a1a1-4aa5-aaf3-c97cc143b200",
   "metadata": {},
   "source": [
    "### Task-1: Compute the gradient of MSE with respect to the parameters (w, b)"
   ]
  },
  {
   "cell_type": "code",
   "execution_count": 10,
   "id": "079c82bc-7214-4397-ae65-5410561621ae",
   "metadata": {
    "nbgrader": {
     "grade": false,
     "grade_id": "cell-0b85a8fc4073110b",
     "locked": false,
     "schema_version": 3,
     "solution": true,
     "task": false
    },
    "tags": []
   },
   "outputs": [],
   "source": [
    "# Function to compute the gradient of MSE with respect to the parameters (w, b)\n",
    "def compute_gradients(X, y, y_pred):\n",
    "    m = len(y)\n",
    " \n",
    "    # Calculate gradients using vectorized operations\n",
    "    dw = -(2 / m) * np.sum(X * (y - y_pred))\n",
    "    db = -(2 / m) * np.sum(y - y_pred)\n",
    "    \n",
    "    return dw, db"
   ]
  },
  {
   "cell_type": "markdown",
   "id": "aa171d31-8a6a-4c92-aa0a-99b050c04a35",
   "metadata": {},
   "source": [
    "### Task-2: Update parameters W (weights) and b (bias)"
   ]
  },
  {
   "cell_type": "code",
   "execution_count": 11,
   "id": "192c2715-66e2-4c64-9cb7-bff82c5f8ec2",
   "metadata": {
    "nbgrader": {
     "grade": false,
     "grade_id": "cell-4b0e755b99567887",
     "locked": false,
     "schema_version": 3,
     "solution": true,
     "task": false
    },
    "tags": []
   },
   "outputs": [],
   "source": [
    "def train(num_epochs, verbose=True):\n",
    "    # Initialize the parameters\n",
    "    W = 0.160\n",
    "    b = 16\n",
    "    learning_rate=0.001\n",
    "    loss = 0\n",
    "    \n",
    "    for epoch in range(0, num_epochs):\n",
    "        y_pred = forward_propagation(X, W, b)\n",
    "        loss = compute_mse(y, y_pred)\n",
    "        if verbose: print(f\"  w = {round(W, 2)}  b = {round(b, 2)}   pred = {y_pred}  Loss = {round(loss, 2)}\")\n",
    "\n",
    "        # Compute the gradients\n",
    "        dw, db = compute_gradients(X, y, y_pred)\n",
    "\n",
    "        # update parameters W (weights) and b (bias)\n",
    "       \n",
    "        W = W - dw * learning_rate\n",
    "        b = b - db * learning_rate\n",
    "\n",
    "       \n",
    "        if verbose: print(f\"\\n Epoch {epoch+1}\")\n",
    "        if verbose: print(f\"  dw = {round(dw, 2)}    db = {round(db, 2)}\")\n",
    "    return loss    "
   ]
  },
  {
   "cell_type": "code",
   "execution_count": 12,
   "id": "5ef435fb-313a-440f-9db7-5e035f8b22b9",
   "metadata": {},
   "outputs": [
    {
     "name": "stdout",
     "output_type": "stream",
     "text": [
      "  w = 0.16  b = 16   pred = [19.36 18.56 19.84]  Loss = 275.84\n",
      "\n",
      " Epoch 1\n",
      "  dw = -676.88    db = -32.83\n",
      "  w = 0.84  b = 16.03   pred = [33.60730667 29.42290667 36.11794667]  Loss = 11.91\n",
      "\n",
      " Epoch 2\n",
      "  dw = -101.1    db = -5.23\n",
      "  w = 0.94  b = 16.04   pred = [35.73563189 31.04573412 38.54957056]  Loss = 6.02\n",
      "\n",
      " Epoch 3\n",
      "  dw = -15.09    db = -1.11\n",
      "  w = 0.95  b = 16.04   pred = [36.05356868 31.28823659 38.91276792]  Loss = 5.89\n",
      "\n",
      " Epoch 4\n",
      "  dw = -2.24    db = -0.5\n",
      "  w = 0.96  b = 16.04   pred = [36.10106142 31.32453986 38.96697435]  Loss = 5.89\n",
      "\n",
      " Epoch 5\n",
      "  dw = -0.32    db = -0.4\n"
     ]
    },
    {
     "data": {
      "text/plain": [
       "5.88767603288389"
      ]
     },
     "execution_count": 12,
     "metadata": {},
     "output_type": "execute_result"
    }
   ],
   "source": [
    "train(5)"
   ]
  },
  {
   "cell_type": "code",
   "execution_count": null,
   "id": "aaa2f784-7621-4ea9-adf6-77e9f83e7df1",
   "metadata": {},
   "outputs": [],
   "source": []
  }
 ],
 "metadata": {
  "kernelspec": {
   "display_name": "Python 3 (ipykernel)",
   "language": "python",
   "name": "python3"
  },
  "language_info": {
   "codemirror_mode": {
    "name": "ipython",
    "version": 3
   },
   "file_extension": ".py",
   "mimetype": "text/x-python",
   "name": "python",
   "nbconvert_exporter": "python",
   "pygments_lexer": "ipython3",
   "version": "3.10.8"
  }
 },
 "nbformat": 4,
 "nbformat_minor": 5
}
