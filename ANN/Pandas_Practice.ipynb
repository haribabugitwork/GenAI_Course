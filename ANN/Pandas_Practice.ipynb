{
 "cells": [
  {
   "cell_type": "markdown",
   "id": "ebb7d3a8-dd31-4e0d-9e20-b15879cd30c6",
   "metadata": {},
   "source": [
    "### Pandas Fundamentals: Practice\n",
    "\n",
    "Description: This exercise is designed to practice data manipulation and analysis usin Pandas. \n",
    "You will work with the IPL matches datasetto assist tasks involving data access, cleaning, and basic preprocessing."
   ]
  },
  {
   "cell_type": "markdown",
   "id": "a96c30ec-b137-4238-9a8d-98239a12aae4",
   "metadata": {},
   "source": [
    "### Install and import pandas library"
   ]
  },
  {
   "cell_type": "raw",
   "id": "bb5405cf-01f5-4c5f-9a3a-ea029b6544a9",
   "metadata": {},
   "source": [
    "pip install pandas"
   ]
  },
  {
   "cell_type": "code",
   "execution_count": null,
   "id": "2ef69572-2fc0-449b-989e-f1930f38ec59",
   "metadata": {},
   "outputs": [],
   "source": [
    "import pandas as pd"
   ]
  },
  {
   "cell_type": "markdown",
   "id": "79961230-acd8-4a7f-82b9-3f1c2885083e",
   "metadata": {},
   "source": [
    "### Read IPL matches csv file and have sneak view of data"
   ]
  },
  {
   "cell_type": "code",
   "execution_count": null,
   "id": "48565b2d-5841-4db3-9e22-77c8562db5d8",
   "metadata": {},
   "outputs": [],
   "source": [
    "ipl_matches_df = pd.read_csv('ipl_matches.csv')"
   ]
  },
  {
   "cell_type": "code",
   "execution_count": null,
   "id": "c961b2e9-d8ee-4903-b557-4849b412eee9",
   "metadata": {},
   "outputs": [],
   "source": [
    "print(type(ipl_matches_df))"
   ]
  },
  {
   "cell_type": "code",
   "execution_count": null,
   "id": "a1a0a53e-de76-40b3-963f-a77539fade02",
   "metadata": {},
   "outputs": [],
   "source": [
    "ipl_matches_df.head(1)"
   ]
  },
  {
   "cell_type": "code",
   "execution_count": null,
   "id": "8b7a407c-e5bd-4750-8746-dca0478f3f28",
   "metadata": {},
   "outputs": [],
   "source": [
    "ipl_matches_df.tail(1)"
   ]
  },
  {
   "cell_type": "code",
   "execution_count": null,
   "id": "205a5b75-483b-4c5f-aebd-a943adb9d5d2",
   "metadata": {},
   "outputs": [],
   "source": [
    "ipl_matches_df.shape  # return tuple"
   ]
  },
  {
   "cell_type": "code",
   "execution_count": null,
   "id": "d6766ace-7ecb-418c-9cf9-e187dd01fc5b",
   "metadata": {},
   "outputs": [],
   "source": [
    "ipl_matches_df.shape[0] # number of rows"
   ]
  },
  {
   "cell_type": "code",
   "execution_count": null,
   "id": "d983d0bc-4c19-4fce-8157-f77d7569835c",
   "metadata": {},
   "outputs": [],
   "source": [
    "ipl_matches_df.shape[1] # number of columns"
   ]
  },
  {
   "cell_type": "code",
   "execution_count": null,
   "id": "73e0435c-fa4a-4f02-91ef-adeb1b976ece",
   "metadata": {},
   "outputs": [],
   "source": [
    "print(ipl_matches_df.size) # number of elements"
   ]
  },
  {
   "cell_type": "markdown",
   "id": "d7a01e4c-6bbe-4486-8093-34d54a37bbc6",
   "metadata": {},
   "source": [
    "### Data Overview and Missing Values Analysis"
   ]
  },
  {
   "cell_type": "code",
   "execution_count": null,
   "id": "144541e0-8c55-4e8e-98b9-40e816cb95ce",
   "metadata": {},
   "outputs": [],
   "source": [
    "ipl_matches_df.info()"
   ]
  },
  {
   "cell_type": "code",
   "execution_count": null,
   "id": "c070486b-c20c-49a2-aebc-d960ad225760",
   "metadata": {},
   "outputs": [],
   "source": [
    "ipl_matches_df.isna().sum()"
   ]
  },
  {
   "cell_type": "code",
   "execution_count": null,
   "id": "73d43a2b-0390-4098-9c6e-fef09b4e0523",
   "metadata": {},
   "outputs": [],
   "source": [
    "type(ipl_matches_df.isna().sum())"
   ]
  },
  {
   "cell_type": "code",
   "execution_count": null,
   "id": "ebd66136-8000-4da2-b201-a87ecfd55bed",
   "metadata": {},
   "outputs": [],
   "source": [
    "ipl_matches_df.isna().sum().umpire3"
   ]
  },
  {
   "cell_type": "code",
   "execution_count": null,
   "id": "a95ea1e2-b294-4e7c-b25a-0e244124329e",
   "metadata": {},
   "outputs": [],
   "source": [
    "ipl_matches_df.city.isna().sum()"
   ]
  },
  {
   "cell_type": "markdown",
   "id": "fafcebba-ac75-408f-a111-26f24a728ce0",
   "metadata": {},
   "source": [
    "### Data Cleaning and Transformation with Pandas "
   ]
  },
  {
   "cell_type": "code",
   "execution_count": null,
   "id": "23a46827-d939-42b9-80e6-7a90fcb8e0ba",
   "metadata": {},
   "outputs": [],
   "source": [
    "import numpy as np\n",
    "arr1 = np.arange(12).reshape(-1, 1)"
   ]
  },
  {
   "cell_type": "code",
   "execution_count": null,
   "id": "56cf4fa6-6ba5-410a-ae83-5505dfab55d3",
   "metadata": {},
   "outputs": [],
   "source": [
    "arr1"
   ]
  },
  {
   "cell_type": "code",
   "execution_count": null,
   "id": "d111d308-28cf-4e37-a5ab-afa93b419b56",
   "metadata": {},
   "outputs": [],
   "source": [
    "import numpy as np\n",
    "df = pd.DataFrame(np.arange(12).reshape(3, 4),\n",
    "                  columns=['A', 'B', 'C', 'D'])"
   ]
  },
  {
   "cell_type": "code",
   "execution_count": null,
   "id": "d18a5c58-56b9-4460-b800-ed9ae2af1545",
   "metadata": {},
   "outputs": [],
   "source": [
    "df.drop(['B', 'C'], axis=1)"
   ]
  },
  {
   "cell_type": "code",
   "execution_count": null,
   "id": "5aa2feaf-a80c-446d-b6d2-3dca20abcef9",
   "metadata": {},
   "outputs": [],
   "source": [
    "df_new = df.drop(['B', 'C'], axis=1)"
   ]
  },
  {
   "cell_type": "code",
   "execution_count": null,
   "id": "cc5449cb-a6a3-41a2-bd13-382eeef0b460",
   "metadata": {},
   "outputs": [],
   "source": [
    "df.drop(['B', 'C'], axis=1, inplace=True)"
   ]
  },
  {
   "cell_type": "code",
   "execution_count": null,
   "id": "1cf715c0-873b-4ae7-85b3-29ec3abac9cc",
   "metadata": {},
   "outputs": [],
   "source": [
    "ipl_matches_df.head(3)"
   ]
  },
  {
   "cell_type": "code",
   "execution_count": null,
   "id": "ec7c15a0-f9dc-45bc-b6d1-68060ed1bc51",
   "metadata": {},
   "outputs": [],
   "source": [
    "ipl_matches_df.toss_decision.to_numpy()"
   ]
  },
  {
   "cell_type": "code",
   "execution_count": null,
   "id": "e5ca93f8-a02c-4146-b054-f0b70c09fdf1",
   "metadata": {},
   "outputs": [],
   "source": [
    "from sklearn.preprocessing import LabelEncoder"
   ]
  },
  {
   "cell_type": "code",
   "execution_count": null,
   "id": "0939441a-f7fc-477e-bc56-3a4d104e90c2",
   "metadata": {},
   "outputs": [],
   "source": [
    "le = LabelEncoder()"
   ]
  },
  {
   "cell_type": "code",
   "execution_count": null,
   "id": "b1ee7a71-5995-45bf-a1d6-1def89ddcdee",
   "metadata": {},
   "outputs": [],
   "source": [
    "le.fit(ipl_matches_df.toss_decision)"
   ]
  },
  {
   "cell_type": "code",
   "execution_count": null,
   "id": "d5d9b214-f4d2-4da4-9f8a-c705d5b27f85",
   "metadata": {},
   "outputs": [],
   "source": [
    "# ipl_matches_df.toss_decision = le.transform(ipl_matches_df.toss_decision)"
   ]
  },
  {
   "cell_type": "code",
   "execution_count": null,
   "id": "e1d8c253-83d1-4b7e-9008-4090246741bf",
   "metadata": {},
   "outputs": [],
   "source": [
    "le.classes_"
   ]
  },
  {
   "cell_type": "markdown",
   "id": "646d8c4b-b2c2-4b07-a1c0-4020bc2b36ea",
   "metadata": {},
   "source": [
    "### Data Description and Selection with Pandas"
   ]
  },
  {
   "cell_type": "code",
   "execution_count": null,
   "id": "b79c4e57-c9c2-4268-99ea-3d3633fb2f7d",
   "metadata": {},
   "outputs": [],
   "source": [
    "ipl_matches_df.describe()"
   ]
  },
  {
   "cell_type": "code",
   "execution_count": null,
   "id": "73de6e07-307e-486c-8ad1-9e0e9207d054",
   "metadata": {},
   "outputs": [],
   "source": [
    "ipl_stats = ipl_matches_df.describe()"
   ]
  },
  {
   "cell_type": "code",
   "execution_count": null,
   "id": "17776df7-3cce-4f59-8f8e-9789ea873dcc",
   "metadata": {},
   "outputs": [],
   "source": [
    "ipl_stats.loc['max']"
   ]
  },
  {
   "cell_type": "code",
   "execution_count": null,
   "id": "ac9239fd-065b-4cce-a1e0-7bce17887a66",
   "metadata": {},
   "outputs": [],
   "source": [
    "ipl_stats.loc['min':'max']"
   ]
  },
  {
   "cell_type": "code",
   "execution_count": null,
   "id": "355a371e-e031-448b-9c61-d7fdcd7aa511",
   "metadata": {},
   "outputs": [],
   "source": [
    "ipl_matches_df.loc[1]"
   ]
  },
  {
   "cell_type": "code",
   "execution_count": null,
   "id": "08eea8c9-f236-4165-ad12-ff3a2a8d9619",
   "metadata": {},
   "outputs": [],
   "source": [
    "ipl_matches_df.loc[1, 'season']"
   ]
  },
  {
   "cell_type": "code",
   "execution_count": null,
   "id": "85fc173c-053d-4b74-8cf2-24079297a771",
   "metadata": {},
   "outputs": [],
   "source": [
    "ipl_matches_df.iloc[1]"
   ]
  },
  {
   "cell_type": "code",
   "execution_count": null,
   "id": "6b02ce35-a20c-4286-bb65-d4de0aea1dc2",
   "metadata": {},
   "outputs": [],
   "source": [
    "ipl_matches_df.iloc[1:3]"
   ]
  },
  {
   "cell_type": "code",
   "execution_count": null,
   "id": "0bc61588-ec43-4607-83cf-9e6eb7aba0ca",
   "metadata": {},
   "outputs": [],
   "source": [
    "ipl_matches_df.iloc[1:3, 4] # [row, column]"
   ]
  },
  {
   "cell_type": "code",
   "execution_count": null,
   "id": "c56641e2-bb87-478e-8315-c6751aba32a3",
   "metadata": {},
   "outputs": [],
   "source": [
    "ipl_matches_df.iloc[1:3, [4, 5, 10]] # [row, column]"
   ]
  },
  {
   "cell_type": "markdown",
   "id": "c4bed1ef-1f16-42a8-a7c3-81cc8af48aea",
   "metadata": {},
   "source": [
    "### Data Filtering, Counting and Sorting with Pandas"
   ]
  },
  {
   "cell_type": "code",
   "execution_count": null,
   "id": "7c1ac55d-f6ef-41e8-9a81-b55e3d141f1d",
   "metadata": {},
   "outputs": [],
   "source": [
    "ipl_matches_df['city'] == 'Hyderabad'"
   ]
  },
  {
   "cell_type": "code",
   "execution_count": null,
   "id": "1a1f2204-37b8-4693-944a-33cef7c2af66",
   "metadata": {},
   "outputs": [],
   "source": [
    "mask = ipl_matches_df['city'] == 'Hyderabad'"
   ]
  },
  {
   "cell_type": "code",
   "execution_count": null,
   "id": "b1afbb6b-4e7e-4bbc-8282-c72d4dbc7948",
   "metadata": {},
   "outputs": [],
   "source": [
    "ipl_matches_df[mask]"
   ]
  },
  {
   "cell_type": "code",
   "execution_count": null,
   "id": "2c0cb829-d6d1-4d8b-86d3-baef5c283b6a",
   "metadata": {},
   "outputs": [],
   "source": [
    "ipl_matches_df[ipl_matches_df['city'] == 'Hyderabad']"
   ]
  },
  {
   "cell_type": "code",
   "execution_count": null,
   "id": "eb8fcdeb-4b4f-4e3c-948f-0adb9bc23f41",
   "metadata": {},
   "outputs": [],
   "source": [
    "mask1 = ipl_matches_df['city'] == 'Hyderabad'\n",
    "mask2 = ipl_matches_df['season'] == 2017\n",
    "ipl_matches_df[mask1 & mask2]"
   ]
  },
  {
   "cell_type": "code",
   "execution_count": null,
   "id": "3158e45f-df98-44cd-b61b-601a1f61257f",
   "metadata": {},
   "outputs": [],
   "source": [
    "ipl_matches_df['winner'].value_counts()"
   ]
  },
  {
   "cell_type": "code",
   "execution_count": null,
   "id": "e12a3cd0-0685-4d18-8fb2-575771c306eb",
   "metadata": {},
   "outputs": [],
   "source": [
    "total_matches = ipl_matches_df['team1'].value_counts() + ipl_matches_df['team2'].value_counts()"
   ]
  },
  {
   "cell_type": "code",
   "execution_count": null,
   "id": "cc03e63d-e1d5-477b-8932-0e75647d5dfb",
   "metadata": {},
   "outputs": [],
   "source": [
    "total_matches.sort_values()"
   ]
  },
  {
   "cell_type": "code",
   "execution_count": null,
   "id": "cde5c2df-c22a-4ce6-ad30-f330ece1cd34",
   "metadata": {},
   "outputs": [],
   "source": [
    "total_matches.sort_values(ascending=False)"
   ]
  },
  {
   "cell_type": "markdown",
   "id": "d74eba86-e067-40fc-8d09-a0e9e074d3e8",
   "metadata": {},
   "source": [
    "### Splitting Data for Training and Testing with Scikit-Learn"
   ]
  },
  {
   "cell_type": "code",
   "execution_count": null,
   "id": "b5abdf66-b416-4ea6-af8d-d7c395098005",
   "metadata": {},
   "outputs": [],
   "source": [
    "import pandas as pd\n",
    "from sklearn.model_selection import train_test_split\n",
    "\n",
    "# Sample DataFrame\n",
    "data = pd.DataFrame({\n",
    "    'Feature1': [1, 2, 3, 4, 5, 6, 7, 8, 9, 10],\n",
    "    'Feature2': [10, 20, 30, 40, 50, 60, 70, 80, 90, 100],\n",
    "    'Label': [0, 1, 0, 1, 0, 1, 0, 1, 1, 1]\n",
    "})\n",
    "\n",
    "X = data[['Feature1', 'Feature2']]  # Features\n",
    "y = data['Label']                   # Labels\n",
    "\n",
    "# Split into training and test sets (80% train, 20% test)\n",
    "# X_train, X_test, y_train, y_test = train_test_split(X, y, test_size=0.2, random_state=42)\n",
    "X_train, X_test, y_train, y_test = train_test_split(X, y, test_size=0.2)\n",
    "\n",
    "print(\"Training Features:\\n\", X_train)\n",
    "print(\"\\nTesting Features:\\n\", X_test)\n",
    "print(\"\\nTraining Labels:\\n\", y_train)\n",
    "print(\"\\nTesting Labels:\\n\", y_test)\n"
   ]
  }
 ],
 "metadata": {
  "kernelspec": {
   "display_name": "Python 3 (ipykernel)",
   "language": "python",
   "name": "python3"
  },
  "language_info": {
   "codemirror_mode": {
    "name": "ipython",
    "version": 3
   },
   "file_extension": ".py",
   "mimetype": "text/x-python",
   "name": "python",
   "nbconvert_exporter": "python",
   "pygments_lexer": "ipython3",
   "version": "3.10.8"
  }
 },
 "nbformat": 4,
 "nbformat_minor": 5
}
